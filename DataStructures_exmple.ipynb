{
  "nbformat": 4,
  "nbformat_minor": 0,
  "metadata": {
    "colab": {
      "name": "Copy of DataStructures.ipynb",
      "provenance": [],
      "collapsed_sections": [],
      "authorship_tag": "ABX9TyNzdrei/adA95v6KrZ2FAYr",
      "include_colab_link": true
    },
    "kernelspec": {
      "name": "python3",
      "display_name": "Python 3"
    },
    "language_info": {
      "name": "python"
    }
  },
  "cells": [
    {
      "cell_type": "markdown",
      "metadata": {
        "id": "view-in-github",
        "colab_type": "text"
      },
      "source": [
        "<a href=\"https://colab.research.google.com/github/Amit-kr-pandey/Amit-kr-pandey/blob/main/DataStructures_exmple.ipynb\" target=\"_parent\"><img src=\"https://colab.research.google.com/assets/colab-badge.svg\" alt=\"Open In Colab\"/></a>"
      ]
    },
    {
      "cell_type": "code",
      "execution_count": null,
      "metadata": {
        "colab": {
          "base_uri": "https://localhost:8080/"
        },
        "id": "BI65QGVDg1fn",
        "outputId": "eec39fbc-f1f8-4ec9-d5a4-fd475aef5d05"
      },
      "outputs": [
        {
          "output_type": "stream",
          "name": "stdout",
          "text": [
            "[45, 34, 67, 23, 12] 0\n"
          ]
        }
      ],
      "source": [
        "#find the repeataiton in the list\n",
        "ls = [45,34,67,23,67,45,23,67,45,12,45]\n",
        "cntr = 0\n",
        "repeatlist=list()\n",
        "for i in ls:\n",
        "  repeatcount=0\n",
        "  for j in ls[cntr:]:\n",
        "     if i == j:\n",
        "       if i not in repeatlist:      \n",
        "           repeatcount += 1    \n",
        "           repeatlist.append(i)\n",
        "  cntr += 1\n",
        "print(repeatlist,repeatcount)\n",
        "\n"
      ]
    },
    {
      "cell_type": "code",
      "source": [
        "l1 =[1,2,3]\n",
        "l2=[9,8,7]\n",
        "\n",
        "l1+l2 \n",
        "l1*2"
      ],
      "metadata": {
        "colab": {
          "base_uri": "https://localhost:8080/"
        },
        "id": "pWooxrgIowSd",
        "outputId": "7a38d9c5-b67c-4b5f-d14c-b1d322e5839f"
      },
      "execution_count": null,
      "outputs": [
        {
          "output_type": "execute_result",
          "data": {
            "text/plain": [
              "[1, 2, 3, 1, 2, 3]"
            ]
          },
          "metadata": {},
          "execution_count": 18
        }
      ]
    },
    {
      "cell_type": "code",
      "source": [
        "x = 87\n",
        "y = 34\n",
        "print(x,\"is greater\") if(x>=y) else print(y,\"is greater\")"
      ],
      "metadata": {
        "colab": {
          "base_uri": "https://localhost:8080/"
        },
        "id": "QBp3gxiTpImT",
        "outputId": "ec9830e9-0622-4628-a53f-8dd2d17d6380"
      },
      "execution_count": null,
      "outputs": [
        {
          "output_type": "stream",
          "name": "stdout",
          "text": [
            "87 is greater\n"
          ]
        }
      ]
    },
    {
      "cell_type": "code",
      "source": [
        "x= int(input(\"Enter a number\"))\n",
        "print(x,\"is even number\") if(x%2==0) else print(x,\"is odd number\")"
      ],
      "metadata": {
        "colab": {
          "base_uri": "https://localhost:8080/"
        },
        "id": "eIZ85l68qXNH",
        "outputId": "a2f74261-dcd8-47e6-e00d-ec0e530fe96d"
      },
      "execution_count": null,
      "outputs": [
        {
          "output_type": "stream",
          "name": "stdout",
          "text": [
            "Enter a number3\n",
            "3 is odd number\n"
          ]
        }
      ]
    },
    {
      "cell_type": "code",
      "source": [
        "l1 =[45,23,12,89,56,72]\n",
        "#l1.sort() //ascending order\n",
        "l1.sort(reverse=True)\n",
        "l1"
      ],
      "metadata": {
        "colab": {
          "base_uri": "https://localhost:8080/"
        },
        "id": "0au1UQBarI2P",
        "outputId": "2f97398d-add1-4fb3-8187-ef4f104fefd5"
      },
      "execution_count": null,
      "outputs": [
        {
          "output_type": "execute_result",
          "data": {
            "text/plain": [
              "[89, 72, 56, 45, 23, 12]"
            ]
          },
          "metadata": {},
          "execution_count": 23
        }
      ]
    },
    {
      "cell_type": "code",
      "source": [
        "#list comprehension\n",
        "#multiply every number by 3 and store it in a new lst\n",
        "\n",
        "# 1\n",
        "# l1 =[45,23,12,89,56,72]\n",
        "# newlist=list()\n",
        "# for i in l1:\n",
        "#   newlist.append(i*3)\n",
        "# newlist\n",
        "\n",
        "#2\n",
        "lis=[34,23,56,23,12]\n",
        "newls=list()\n",
        "for i in lis:\n",
        "  newls.append(i)  \n",
        "newls\n",
        "\n",
        "#3\n",
        "# l1 =[45,23,12,89,56,72]\n",
        "# newlist=[i*3 for i in l1]\n",
        "# newlist"
      ],
      "metadata": {
        "colab": {
          "base_uri": "https://localhost:8080/"
        },
        "id": "1nnfXWfXrkWY",
        "outputId": "172b0774-500e-4a81-f427-4b8096a55641"
      },
      "execution_count": null,
      "outputs": [
        {
          "output_type": "execute_result",
          "data": {
            "text/plain": [
              "[34, 23, 56, 23, 12]"
            ]
          },
          "metadata": {},
          "execution_count": 4
        }
      ]
    },
    {
      "cell_type": "code",
      "source": [
        "# multiplly every even number by 2 and odd number by 3\n",
        "l1 =[45,23,12,89,56,72]\n",
        "newlist=[i*2 if (i%2==0) else i*3 for i in l1]\n",
        "newlist\n"
      ],
      "metadata": {
        "colab": {
          "base_uri": "https://localhost:8080/"
        },
        "id": "13zO87kJstsy",
        "outputId": "4acc4294-3568-4fb6-89e4-bc3fb9f5a8e9"
      },
      "execution_count": null,
      "outputs": [
        {
          "output_type": "execute_result",
          "data": {
            "text/plain": [
              "[135, 69, 24, 267, 112, 144]"
            ]
          },
          "metadata": {},
          "execution_count": 27
        }
      ]
    },
    {
      "cell_type": "code",
      "source": [
        "#slicing the letter inside the list string\n",
        "strList =['INDIA','JAPAN','FRANCE','SWEDAN']\n",
        "newlist=[i[0:3] for i in strList]\n",
        "newlist"
      ],
      "metadata": {
        "colab": {
          "base_uri": "https://localhost:8080/"
        },
        "id": "Merjb0FZxmc6",
        "outputId": "a51a076f-df01-4b3c-fb85-46ea02c006e2"
      },
      "execution_count": null,
      "outputs": [
        {
          "output_type": "execute_result",
          "data": {
            "text/plain": [
              "['INDI', 'JAPA', 'FRAN', 'SWED']"
            ]
          },
          "metadata": {},
          "execution_count": 32
        }
      ]
    },
    {
      "cell_type": "code",
      "source": [
        "# Dictionary \n",
        "#key value pair\n",
        "#{key1:value1,key2:value2,key3:value3}\n",
        "scores={'RCB':5.6,'CHN':9.5,'GUJ':7.8}\n",
        "#scores\n",
        "scores.keys()\n",
        "#scores.values()"
      ],
      "metadata": {
        "colab": {
          "base_uri": "https://localhost:8080/"
        },
        "id": "-URwtHDQzRwx",
        "outputId": "36924342-e90a-45de-a2b2-a5e5e3d11b96"
      },
      "execution_count": null,
      "outputs": [
        {
          "output_type": "execute_result",
          "data": {
            "text/plain": [
              "dict_keys(['RCB', 'CHN', 'GUJ'])"
            ]
          },
          "metadata": {},
          "execution_count": 8
        }
      ]
    },
    {
      "cell_type": "code",
      "source": [
        "# []=for list and () for tupples\n",
        "scores={'RCB':5.6,'CHN':9.5,'GUJ':7.8}\n",
        "scores.items()"
      ],
      "metadata": {
        "colab": {
          "base_uri": "https://localhost:8080/"
        },
        "id": "1q-u-t3u0PIP",
        "outputId": "d5d40281-62dc-4cb4-f4f8-393d497820db"
      },
      "execution_count": null,
      "outputs": [
        {
          "output_type": "execute_result",
          "data": {
            "text/plain": [
              "dict_items([('RCB', 5.6), ('CHN', 9.5), ('GUJ', 7.8)])"
            ]
          },
          "metadata": {},
          "execution_count": 36
        }
      ]
    },
    {
      "cell_type": "code",
      "source": [
        "#insert using key and value\n",
        "scores={'RCB':5.6,'CHN':9.5,'GUJ':7.8}\n",
        "#scores['MUM']=4.6\n",
        "scores['CHN']\n"
      ],
      "metadata": {
        "colab": {
          "base_uri": "https://localhost:8080/"
        },
        "id": "7nn6Q0FY03xw",
        "outputId": "dda8e85f-7874-4670-e439-844d1362faa5"
      },
      "execution_count": null,
      "outputs": [
        {
          "output_type": "execute_result",
          "data": {
            "text/plain": [
              "9.5"
            ]
          },
          "metadata": {},
          "execution_count": 9
        }
      ]
    },
    {
      "cell_type": "code",
      "source": [
        "#INSET USING KEY ALREADY PRESENT\n",
        "scores={'RCB':5.6,'CHN':9.5,'GUJ':7.8}\n",
        "scores['RCB']=4.6\n",
        "scores"
      ],
      "metadata": {
        "colab": {
          "base_uri": "https://localhost:8080/"
        },
        "id": "ErWT9TE-1Z-6",
        "outputId": "d9ed18b9-0a0c-4197-8baf-8f2da74ca3b1"
      },
      "execution_count": null,
      "outputs": [
        {
          "output_type": "execute_result",
          "data": {
            "text/plain": [
              "{'CHN': 9.5, 'GUJ': 7.8, 'RCB': 4.6}"
            ]
          },
          "metadata": {},
          "execution_count": 39
        }
      ]
    },
    {
      "cell_type": "code",
      "source": [
        "#value of differsnt datatype and also keys\n",
        "scores={'RCB':5.6,'CHN':9.5,'GUJ':7.8}\n",
        "scores[3]='tigers'\n",
        "scores"
      ],
      "metadata": {
        "colab": {
          "base_uri": "https://localhost:8080/"
        },
        "id": "nEVzqkjY1rph",
        "outputId": "c3a97fb0-477d-4692-ed57-aeba547f1142"
      },
      "execution_count": null,
      "outputs": [
        {
          "output_type": "execute_result",
          "data": {
            "text/plain": [
              "{3: 'tigers', 'CHN': 9.5, 'GUJ': 7.8, 'RCB': 5.6}"
            ]
          },
          "metadata": {},
          "execution_count": 40
        }
      ]
    },
    {
      "cell_type": "code",
      "source": [
        "Emp = {'Empno':[100,200,300],\n",
        "       'Empname':['Amit','kiran','anu'],\n",
        "       'salary':[40,50,23]}\n",
        "Emp\n",
        "print(Emp['salary'])"
      ],
      "metadata": {
        "colab": {
          "base_uri": "https://localhost:8080/"
        },
        "id": "sPKImW4Q2VdG",
        "outputId": "13ef8eb8-f401-4623-8917-27556a87189d"
      },
      "execution_count": null,
      "outputs": [
        {
          "output_type": "stream",
          "name": "stdout",
          "text": [
            "[40, 50, 23]\n"
          ]
        }
      ]
    },
    {
      "cell_type": "code",
      "source": [
        "# build a dictionay : {1:1,2:4,3:9,4:16..}\n",
        "n = int(input(\"Enter the numebr\"))\n",
        "d={}\n",
        "for i in range(1,n+1):\n",
        "  d[i]=i*i\n",
        "\n",
        "print(d)"
      ],
      "metadata": {
        "colab": {
          "base_uri": "https://localhost:8080/"
        },
        "id": "PWWHhQpU28Mi",
        "outputId": "8a1b1d43-e856-4b72-d966-40f4de2c4831"
      },
      "execution_count": null,
      "outputs": [
        {
          "output_type": "stream",
          "name": "stdout",
          "text": [
            "Enter the numebr5\n",
            "{1: 1, 2: 4, 3: 9, 4: 16, 5: 25}\n"
          ]
        }
      ]
    },
    {
      "cell_type": "code",
      "source": [
        "#{23:'odd',56:'even',12:'even'}\n",
        "listnew =[23,56,12,78]\n",
        "nedic = {}\n",
        "for i in listnew:\n",
        "  nedic[i] = 'Even' if(i%2==0) else 'odd'\n",
        "nedic\n",
        "# for i in listnew:\n",
        "#   if(i%2==0):\n",
        "#     nedic[i]='even'\n",
        "#   else:\n",
        "#     nedic[i]='odd'\n",
        "# print(nedic)\n",
        "\n",
        "# for i in listnew:\n",
        "#   nedic[i]=\"odd\" if(i%2==1) else \"even\"\n",
        "# nedic"
      ],
      "metadata": {
        "colab": {
          "base_uri": "https://localhost:8080/"
        },
        "id": "VIVtdSgs4AU3",
        "outputId": "2e45bfa4-2193-4173-b27b-7989a7c86430"
      },
      "execution_count": null,
      "outputs": [
        {
          "output_type": "execute_result",
          "data": {
            "text/plain": [
              "{12: 'Even', 23: 'odd', 56: 'Even', 78: 'Even'}"
            ]
          },
          "metadata": {},
          "execution_count": 20
        }
      ]
    },
    {
      "cell_type": "code",
      "source": [
        "#find sum of all values\n",
        "d1={1:98,2:97,3:67,4:87}\n",
        "sum = 0\n",
        "for i in d1:\n",
        "   sum += d1[i] \n",
        "sum\n",
        "#1\n",
        "#sum = 0\n",
        "# for i in d1:\n",
        "#   sum =sum+d1[i]\n",
        "# print(sum)\n",
        "\n",
        "#2\n",
        "# sum = 0\n",
        "# for i in d1.values():\n",
        "#   sum += i\n",
        "# print(sum)\n",
        "\n"
      ],
      "metadata": {
        "colab": {
          "base_uri": "https://localhost:8080/"
        },
        "id": "Gq5ABoHX5pty",
        "outputId": "18653344-aeb7-4a1b-893b-92ebcdc761ba"
      },
      "execution_count": null,
      "outputs": [
        {
          "output_type": "execute_result",
          "data": {
            "text/plain": [
              "349"
            ]
          },
          "metadata": {},
          "execution_count": 21
        }
      ]
    },
    {
      "cell_type": "code",
      "source": [
        "#3\n",
        "d1={1:98,2:97,3:67,4:87}\n",
        "sum(d1.values())"
      ],
      "metadata": {
        "colab": {
          "base_uri": "https://localhost:8080/",
          "height": 200
        },
        "id": "unyFJGHK8rcP",
        "outputId": "e357b882-0a4b-49e8-ea03-b94d0ad0c8e4"
      },
      "execution_count": null,
      "outputs": [
        {
          "output_type": "error",
          "ename": "TypeError",
          "evalue": "ignored",
          "traceback": [
            "\u001b[0;31m---------------------------------------------------------------------------\u001b[0m",
            "\u001b[0;31mTypeError\u001b[0m                                 Traceback (most recent call last)",
            "\u001b[0;32m<ipython-input-58-f0db8cc2c83b>\u001b[0m in \u001b[0;36m<module>\u001b[0;34m()\u001b[0m\n\u001b[1;32m      1\u001b[0m \u001b[0;31m#3\u001b[0m\u001b[0;34m\u001b[0m\u001b[0;34m\u001b[0m\u001b[0;34m\u001b[0m\u001b[0m\n\u001b[1;32m      2\u001b[0m \u001b[0md1\u001b[0m\u001b[0;34m=\u001b[0m\u001b[0;34m{\u001b[0m\u001b[0;36m1\u001b[0m\u001b[0;34m:\u001b[0m\u001b[0;36m98\u001b[0m\u001b[0;34m,\u001b[0m\u001b[0;36m2\u001b[0m\u001b[0;34m:\u001b[0m\u001b[0;36m97\u001b[0m\u001b[0;34m,\u001b[0m\u001b[0;36m3\u001b[0m\u001b[0;34m:\u001b[0m\u001b[0;36m67\u001b[0m\u001b[0;34m,\u001b[0m\u001b[0;36m4\u001b[0m\u001b[0;34m:\u001b[0m\u001b[0;36m87\u001b[0m\u001b[0;34m}\u001b[0m\u001b[0;34m\u001b[0m\u001b[0;34m\u001b[0m\u001b[0m\n\u001b[0;32m----> 3\u001b[0;31m \u001b[0msum\u001b[0m\u001b[0;34m(\u001b[0m\u001b[0md1\u001b[0m\u001b[0;34m.\u001b[0m\u001b[0mvalues\u001b[0m\u001b[0;34m(\u001b[0m\u001b[0;34m)\u001b[0m\u001b[0;34m)\u001b[0m\u001b[0;34m\u001b[0m\u001b[0;34m\u001b[0m\u001b[0m\n\u001b[0m",
            "\u001b[0;31mTypeError\u001b[0m: 'int' object is not callable"
          ]
        }
      ]
    },
    {
      "cell_type": "code",
      "source": [
        "#get method it is giving the value of the key using key in get\n",
        "dict1 = {\"jan\":2,\"Feb\":3,\"Apr\":5}\n",
        "dict1.get(\"Feb\")\n",
        "dict1.get('Apr')\n",
        "#dict1.get(\"Mar\",False)"
      ],
      "metadata": {
        "colab": {
          "base_uri": "https://localhost:8080/"
        },
        "id": "6C5kNzQ-82YI",
        "outputId": "f3c618bd-8f11-40f1-c560-96366f492109"
      },
      "execution_count": null,
      "outputs": [
        {
          "output_type": "execute_result",
          "data": {
            "text/plain": [
              "5"
            ]
          },
          "metadata": {},
          "execution_count": 26
        }
      ]
    },
    {
      "cell_type": "code",
      "source": [
        "#frequency of alphabets in string\n",
        "text = \"I love to program in python\"\n",
        "freq={}\n",
        "#freq = dict() \n",
        "for c in text:\n",
        "  freq[c]=freq.get(c,0)+1\n",
        "  print(freq)\n"
      ],
      "metadata": {
        "colab": {
          "base_uri": "https://localhost:8080/"
        },
        "id": "898T1CjX9cR0",
        "outputId": "5f82114c-0c92-4366-b93d-7b8ca63e01d3"
      },
      "execution_count": null,
      "outputs": [
        {
          "output_type": "stream",
          "name": "stdout",
          "text": [
            "{'I': 1}\n",
            "{'I': 1, ' ': 1}\n",
            "{'I': 1, ' ': 1, 'l': 1}\n",
            "{'I': 1, ' ': 1, 'l': 1, 'o': 1}\n",
            "{'I': 1, ' ': 1, 'l': 1, 'o': 1, 'v': 1}\n",
            "{'I': 1, ' ': 1, 'l': 1, 'o': 1, 'v': 1, 'e': 1}\n",
            "{'I': 1, ' ': 2, 'l': 1, 'o': 1, 'v': 1, 'e': 1}\n",
            "{'I': 1, ' ': 2, 'l': 1, 'o': 1, 'v': 1, 'e': 1, 't': 1}\n",
            "{'I': 1, ' ': 2, 'l': 1, 'o': 2, 'v': 1, 'e': 1, 't': 1}\n",
            "{'I': 1, ' ': 3, 'l': 1, 'o': 2, 'v': 1, 'e': 1, 't': 1}\n",
            "{'I': 1, ' ': 3, 'l': 1, 'o': 2, 'v': 1, 'e': 1, 't': 1, 'p': 1}\n",
            "{'I': 1, ' ': 3, 'l': 1, 'o': 2, 'v': 1, 'e': 1, 't': 1, 'p': 1, 'r': 1}\n",
            "{'I': 1, ' ': 3, 'l': 1, 'o': 3, 'v': 1, 'e': 1, 't': 1, 'p': 1, 'r': 1}\n",
            "{'I': 1, ' ': 3, 'l': 1, 'o': 3, 'v': 1, 'e': 1, 't': 1, 'p': 1, 'r': 1, 'g': 1}\n",
            "{'I': 1, ' ': 3, 'l': 1, 'o': 3, 'v': 1, 'e': 1, 't': 1, 'p': 1, 'r': 2, 'g': 1}\n",
            "{'I': 1, ' ': 3, 'l': 1, 'o': 3, 'v': 1, 'e': 1, 't': 1, 'p': 1, 'r': 2, 'g': 1, 'a': 1}\n",
            "{'I': 1, ' ': 3, 'l': 1, 'o': 3, 'v': 1, 'e': 1, 't': 1, 'p': 1, 'r': 2, 'g': 1, 'a': 1, 'm': 1}\n",
            "{'I': 1, ' ': 4, 'l': 1, 'o': 3, 'v': 1, 'e': 1, 't': 1, 'p': 1, 'r': 2, 'g': 1, 'a': 1, 'm': 1}\n",
            "{'I': 1, ' ': 4, 'l': 1, 'o': 3, 'v': 1, 'e': 1, 't': 1, 'p': 1, 'r': 2, 'g': 1, 'a': 1, 'm': 1, 'i': 1}\n",
            "{'I': 1, ' ': 4, 'l': 1, 'o': 3, 'v': 1, 'e': 1, 't': 1, 'p': 1, 'r': 2, 'g': 1, 'a': 1, 'm': 1, 'i': 1, 'n': 1}\n",
            "{'I': 1, ' ': 5, 'l': 1, 'o': 3, 'v': 1, 'e': 1, 't': 1, 'p': 1, 'r': 2, 'g': 1, 'a': 1, 'm': 1, 'i': 1, 'n': 1}\n",
            "{'I': 1, ' ': 5, 'l': 1, 'o': 3, 'v': 1, 'e': 1, 't': 1, 'p': 2, 'r': 2, 'g': 1, 'a': 1, 'm': 1, 'i': 1, 'n': 1}\n",
            "{'I': 1, ' ': 5, 'l': 1, 'o': 3, 'v': 1, 'e': 1, 't': 1, 'p': 2, 'r': 2, 'g': 1, 'a': 1, 'm': 1, 'i': 1, 'n': 1, 'y': 1}\n",
            "{'I': 1, ' ': 5, 'l': 1, 'o': 3, 'v': 1, 'e': 1, 't': 2, 'p': 2, 'r': 2, 'g': 1, 'a': 1, 'm': 1, 'i': 1, 'n': 1, 'y': 1}\n",
            "{'I': 1, ' ': 5, 'l': 1, 'o': 3, 'v': 1, 'e': 1, 't': 2, 'p': 2, 'r': 2, 'g': 1, 'a': 1, 'm': 1, 'i': 1, 'n': 1, 'y': 1, 'h': 1}\n",
            "{'I': 1, ' ': 5, 'l': 1, 'o': 4, 'v': 1, 'e': 1, 't': 2, 'p': 2, 'r': 2, 'g': 1, 'a': 1, 'm': 1, 'i': 1, 'n': 1, 'y': 1, 'h': 1}\n",
            "{'I': 1, ' ': 5, 'l': 1, 'o': 4, 'v': 1, 'e': 1, 't': 2, 'p': 2, 'r': 2, 'g': 1, 'a': 1, 'm': 1, 'i': 1, 'n': 2, 'y': 1, 'h': 1}\n"
          ]
        }
      ]
    },
    {
      "cell_type": "code",
      "source": [
        "#enumerate.to find the index of an element\n",
        "l1 =[23,45,67,56]\n",
        "for i,j in enumerate(l1):\n",
        "  print(i,j)"
      ],
      "metadata": {
        "colab": {
          "base_uri": "https://localhost:8080/"
        },
        "id": "1cnJF7AgBTQG",
        "outputId": "2288e594-387d-40b1-cdd1-46329bedd802"
      },
      "execution_count": null,
      "outputs": [
        {
          "output_type": "stream",
          "name": "stdout",
          "text": [
            "0 23\n",
            "1 45\n",
            "2 67\n",
            "3 56\n"
          ]
        }
      ]
    },
    {
      "cell_type": "code",
      "source": [
        "#tuples\n",
        "# tuples are immutables\n",
        "\n",
        "t1 =(213,53,64,23,24)\n",
        "t1 \n"
      ],
      "metadata": {
        "colab": {
          "base_uri": "https://localhost:8080/"
        },
        "id": "vypHufcKQ7gK",
        "outputId": "cf7e2c63-5e96-422a-ed9a-2c36f8c17acb"
      },
      "execution_count": null,
      "outputs": [
        {
          "output_type": "execute_result",
          "data": {
            "text/plain": [
              "(213, 53, 64, 23, 24)"
            ]
          },
          "metadata": {},
          "execution_count": 66
        }
      ]
    },
    {
      "cell_type": "code",
      "source": [
        "\n",
        "t1 =(213,53,64,23,24)\n",
        "t1[1:3]"
      ],
      "metadata": {
        "colab": {
          "base_uri": "https://localhost:8080/"
        },
        "id": "UlRcW-h1R7jY",
        "outputId": "62ac7aa7-f8da-44ae-9966-b6a2ba828b8f"
      },
      "execution_count": null,
      "outputs": [
        {
          "output_type": "execute_result",
          "data": {
            "text/plain": [
              "(53, 64)"
            ]
          },
          "metadata": {},
          "execution_count": 68
        }
      ]
    },
    {
      "cell_type": "code",
      "source": [
        "#user defiened functions\n",
        "def add(a,b):\n",
        "  return(a+b)\n",
        "\n",
        "#Function call\n",
        "print(add(4,3))  \n",
        "print(add(3.4,5.6))\n",
        "print(add(\"AMit\",\" shubham\"))\n"
      ],
      "metadata": {
        "colab": {
          "base_uri": "https://localhost:8080/"
        },
        "id": "7Frz2QEbSE7g",
        "outputId": "5e397581-c217-475f-f4a5-084131b354ca"
      },
      "execution_count": null,
      "outputs": [
        {
          "output_type": "stream",
          "name": "stdout",
          "text": [
            "7\n",
            "9.0\n",
            "AMit shubham\n"
          ]
        }
      ]
    },
    {
      "cell_type": "code",
      "source": [
        "def calc(a,b):\n",
        "  sum = a+b\n",
        "  prod=a*b\n",
        "  return (sum,prod)\n",
        "calc(4,5)\n",
        "s , p\n",
        "print(\"sum = \",s,\"  prod=\",p)"
      ],
      "metadata": {
        "colab": {
          "base_uri": "https://localhost:8080/"
        },
        "id": "U68o4jNeTIG8",
        "outputId": "fefeb7ca-6d4a-43fd-fdbd-870cfc343813"
      },
      "execution_count": null,
      "outputs": [
        {
          "output_type": "stream",
          "name": "stdout",
          "text": [
            "sum =  9   prod= 20\n"
          ]
        }
      ]
    },
    {
      "cell_type": "code",
      "source": [
        "#factorial of number using function\n",
        "def factorial(n):\n",
        "  fact =1;\n",
        "  for i in range(1,n+1):\n",
        "    fact *= i\n",
        "  return fact\n",
        "\n",
        "number = int(input(\"Enter number\"))\n",
        "factorial(number)\n"
      ],
      "metadata": {
        "colab": {
          "base_uri": "https://localhost:8080/"
        },
        "id": "bGNk_3vAX3GQ",
        "outputId": "f4191bff-c63b-45dd-9104-94deed05cb88"
      },
      "execution_count": null,
      "outputs": [
        {
          "name": "stdout",
          "output_type": "stream",
          "text": [
            "Enter number3\n"
          ]
        },
        {
          "output_type": "execute_result",
          "data": {
            "text/plain": [
              "6"
            ]
          },
          "metadata": {},
          "execution_count": 83
        }
      ]
    },
    {
      "cell_type": "code",
      "source": [
        "#generate the factorial of every number using list comprehension\n",
        "\n",
        "l1 = list(range(3,25,4))\n",
        "l2 =[factorial(i) for i in l1]\n",
        "l2"
      ],
      "metadata": {
        "colab": {
          "base_uri": "https://localhost:8080/"
        },
        "id": "s10P_lGTZKIf",
        "outputId": "08d82617-ed1b-4356-bae3-12c4e2279bfc"
      },
      "execution_count": null,
      "outputs": [
        {
          "output_type": "execute_result",
          "data": {
            "text/plain": [
              "[6, 5040, 39916800, 1307674368000, 121645100408832000, 25852016738884976640000]"
            ]
          },
          "metadata": {},
          "execution_count": 84
        }
      ]
    },
    {
      "cell_type": "code",
      "source": [
        ""
      ],
      "metadata": {
        "id": "IBBUFyQfZ3Th"
      },
      "execution_count": null,
      "outputs": []
    },
    {
      "cell_type": "code",
      "source": [
        "def functionprime(x):\n",
        " flag = 0\n",
        " n = (x)//2\n",
        " if(x == 0 or x ==1):\n",
        "  flag =1\n",
        " for i in range(2,n):\n",
        "   if(x % i == 0):\n",
        "     flag =1\n",
        "     break\n",
        " if(flag==0):\n",
        "   return (True)\n",
        " else:\n",
        "   return (False)"
      ],
      "metadata": {
        "id": "9bntidzFaSd-"
      },
      "execution_count": null,
      "outputs": []
    },
    {
      "cell_type": "code",
      "source": [
        "l1 = list(range(23,46,3))\n",
        "#identify prime numbers\n",
        "l2 = [i for i in l1 if(functionprime(i))]\n",
        "l2"
      ],
      "metadata": {
        "colab": {
          "base_uri": "https://localhost:8080/"
        },
        "id": "b5qWfbuXayeO",
        "outputId": "1d0e2438-a6a1-496e-a131-c616f3948ecc"
      },
      "execution_count": null,
      "outputs": [
        {
          "output_type": "execute_result",
          "data": {
            "text/plain": [
              "[23, 29, 41]"
            ]
          },
          "metadata": {},
          "execution_count": 112
        }
      ]
    },
    {
      "cell_type": "code",
      "source": [
        "#lambdas\n",
        "sum = lambda x,y:x+y\n",
        "sum(23,34)"
      ],
      "metadata": {
        "colab": {
          "base_uri": "https://localhost:8080/"
        },
        "id": "9WJ6P63oedf0",
        "outputId": "85e1ce40-e783-426e-9e49-c71193612c6b"
      },
      "execution_count": null,
      "outputs": [
        {
          "output_type": "execute_result",
          "data": {
            "text/plain": [
              "57"
            ]
          },
          "metadata": {},
          "execution_count": 113
        }
      ]
    },
    {
      "cell_type": "code",
      "source": [
        "#lambda to find square of a given number\n",
        "squre =lambda x:x*x\n",
        "squre(3)"
      ],
      "metadata": {
        "colab": {
          "base_uri": "https://localhost:8080/"
        },
        "id": "eUawFaMYfIj1",
        "outputId": "93fd1ae7-b075-4846-eaa7-0e554eb8c081"
      },
      "execution_count": null,
      "outputs": [
        {
          "output_type": "execute_result",
          "data": {
            "text/plain": [
              "9"
            ]
          },
          "metadata": {},
          "execution_count": 118
        }
      ]
    },
    {
      "cell_type": "code",
      "source": [
        " \n",
        "# map ,filter,reduce\n",
        "#map(function,Sequence)\n",
        "map(factorial,[12,34,23])"
      ],
      "metadata": {
        "colab": {
          "base_uri": "https://localhost:8080/"
        },
        "id": "CDnKD0rfhTkh",
        "outputId": "7a726c46-ee66-4b3a-abf7-de1dc615b14f"
      },
      "execution_count": null,
      "outputs": [
        {
          "output_type": "execute_result",
          "data": {
            "text/plain": [
              "<map at 0x7f8519f17f50>"
            ]
          },
          "metadata": {},
          "execution_count": 119
        }
      ]
    },
    {
      "cell_type": "code",
      "source": [
        "#list(map(factorial,[5,4,2])) // on list  it will apply each and every element of list\n",
        "#list(map(factorial,(3,5,6))) // on tupple"
      ],
      "metadata": {
        "colab": {
          "base_uri": "https://localhost:8080/"
        },
        "id": "LeG_ri9jh7Wr",
        "outputId": "45645dc3-5898-44b3-fe5c-a4a142ef4cf6"
      },
      "execution_count": null,
      "outputs": [
        {
          "output_type": "execute_result",
          "data": {
            "text/plain": [
              "[6, 120, 720]"
            ]
          },
          "metadata": {},
          "execution_count": 121
        }
      ]
    },
    {
      "cell_type": "code",
      "source": [
        "#map is used for each elements when we want to perform same task on each and every \n",
        "#  elements of the list or array we can use map\n",
        "l1=[34,56,43,78]\n",
        "list(map(lambda x:x/2,l1))"
      ],
      "metadata": {
        "colab": {
          "base_uri": "https://localhost:8080/"
        },
        "id": "6Wql9JiViaF1",
        "outputId": "da4c5f96-7f36-4e45-a590-861eee71dfb1"
      },
      "execution_count": null,
      "outputs": [
        {
          "output_type": "execute_result",
          "data": {
            "text/plain": [
              "[17.0, 28.0, 21.5, 39.0]"
            ]
          },
          "metadata": {},
          "execution_count": 122
        }
      ]
    },
    {
      "cell_type": "code",
      "source": [
        ""
      ],
      "metadata": {
        "id": "LcaTS_e_k-Gm"
      },
      "execution_count": null,
      "outputs": []
    },
    {
      "cell_type": "code",
      "source": [
        "l1 =[35.6,36.2,34.8]\n",
        "print(list(map(lambda c:(9/5)*c+32),l1))"
      ],
      "metadata": {
        "colab": {
          "base_uri": "https://localhost:8080/",
          "height": 182
        },
        "id": "yPaCWRmqi1XK",
        "outputId": "e437e640-97ab-40a3-ce81-b4321eaf7570"
      },
      "execution_count": null,
      "outputs": [
        {
          "output_type": "error",
          "ename": "TypeError",
          "evalue": "ignored",
          "traceback": [
            "\u001b[0;31m---------------------------------------------------------------------------\u001b[0m",
            "\u001b[0;31mTypeError\u001b[0m                                 Traceback (most recent call last)",
            "\u001b[0;32m<ipython-input-128-8ff405dc282c>\u001b[0m in \u001b[0;36m<module>\u001b[0;34m()\u001b[0m\n\u001b[1;32m      1\u001b[0m \u001b[0ml1\u001b[0m \u001b[0;34m=\u001b[0m\u001b[0;34m[\u001b[0m\u001b[0;36m35.6\u001b[0m\u001b[0;34m,\u001b[0m\u001b[0;36m36.2\u001b[0m\u001b[0;34m,\u001b[0m\u001b[0;36m34.8\u001b[0m\u001b[0;34m]\u001b[0m\u001b[0;34m\u001b[0m\u001b[0;34m\u001b[0m\u001b[0m\n\u001b[0;32m----> 2\u001b[0;31m \u001b[0mprint\u001b[0m\u001b[0;34m(\u001b[0m\u001b[0mlist\u001b[0m\u001b[0;34m(\u001b[0m\u001b[0mmap\u001b[0m\u001b[0;34m(\u001b[0m\u001b[0;32mlambda\u001b[0m \u001b[0mc\u001b[0m\u001b[0;34m:\u001b[0m\u001b[0;34m(\u001b[0m\u001b[0;36m9\u001b[0m\u001b[0;34m/\u001b[0m\u001b[0;36m5\u001b[0m\u001b[0;34m)\u001b[0m\u001b[0;34m*\u001b[0m\u001b[0mc\u001b[0m\u001b[0;34m+\u001b[0m\u001b[0;36m32\u001b[0m\u001b[0;34m)\u001b[0m\u001b[0;34m,\u001b[0m\u001b[0ml1\u001b[0m\u001b[0;34m)\u001b[0m\u001b[0;34m)\u001b[0m\u001b[0;34m\u001b[0m\u001b[0;34m\u001b[0m\u001b[0m\n\u001b[0m",
            "\u001b[0;31mTypeError\u001b[0m: map() must have at least two arguments."
          ]
        }
      ]
    },
    {
      "cell_type": "code",
      "source": [
        "filter(function,sequence)"
      ],
      "metadata": {
        "id": "NlfnqVa-k_CY"
      },
      "execution_count": null,
      "outputs": []
    },
    {
      "cell_type": "code",
      "source": [
        ""
      ],
      "metadata": {
        "id": "ppxzccMJq-NX"
      },
      "execution_count": null,
      "outputs": []
    },
    {
      "cell_type": "code",
      "source": [
        "list(filter(functionprime,[56,23,54,21,23,29]))"
      ],
      "metadata": {
        "colab": {
          "base_uri": "https://localhost:8080/"
        },
        "id": "WnJeGxfZlGlc",
        "outputId": "ca93e0a2-67b3-4028-98e9-0e10faf07607"
      },
      "execution_count": null,
      "outputs": [
        {
          "output_type": "execute_result",
          "data": {
            "text/plain": [
              "[23, 23, 29]"
            ]
          },
          "metadata": {},
          "execution_count": 129
        }
      ]
    },
    {
      "cell_type": "code",
      "source": [
        "#retain only even number and remove odd numebers\n",
        "# if we want to get or filter some paticular data form list or array we can use filter\n",
        "l1=[23,67,45,34,89,23]\n",
        "list(filter(lambda x:x%2==0,l1))"
      ],
      "metadata": {
        "colab": {
          "base_uri": "https://localhost:8080/"
        },
        "id": "8qf0Rr-ZlYbC",
        "outputId": "6c174438-57e1-40bc-be28-c9b861984738"
      },
      "execution_count": null,
      "outputs": [
        {
          "output_type": "execute_result",
          "data": {
            "text/plain": [
              "[34]"
            ]
          },
          "metadata": {},
          "execution_count": 131
        }
      ]
    },
    {
      "cell_type": "code",
      "source": [
        "# reduce(function,sequence) //it gives only one output\n",
        "# like max,min,sum,avg\n",
        "\n",
        "from functools import reduce\n",
        "l1=list(range(34,12,-2))\n",
        "reduce(lambda x,y:x+y,l1)"
      ],
      "metadata": {
        "colab": {
          "base_uri": "https://localhost:8080/"
        },
        "id": "EPZFxWqTrBP6",
        "outputId": "a868ed1f-d899-418d-d06a-df748916aefc"
      },
      "execution_count": null,
      "outputs": [
        {
          "output_type": "execute_result",
          "data": {
            "text/plain": [
              "264"
            ]
          },
          "metadata": {},
          "execution_count": 134
        }
      ]
    },
    {
      "cell_type": "code",
      "source": [
        "#reduce to find max element in the list using reduce\n",
        "l1=list(range(34,12,-2))\n",
        " \n",
        "reduce((lambda x,y:x if(x>y) else y),l1)"
      ],
      "metadata": {
        "colab": {
          "base_uri": "https://localhost:8080/"
        },
        "id": "WlU76EGFsCrZ",
        "outputId": "c0245563-51bb-4acf-a429-a5b265e2cc8e"
      },
      "execution_count": null,
      "outputs": [
        {
          "output_type": "execute_result",
          "data": {
            "text/plain": [
              "34"
            ]
          },
          "metadata": {},
          "execution_count": 137
        }
      ]
    },
    {
      "cell_type": "code",
      "source": [
        "#reduce to find min element in the list\n",
        "l1=list(range(34,12,-2))\n",
        " \n",
        "reduce((lambda x,y:x if(x<y) else y),l1)"
      ],
      "metadata": {
        "colab": {
          "base_uri": "https://localhost:8080/"
        },
        "id": "gvHOid_vsu6D",
        "outputId": "7ec0a703-5541-4c52-e77b-c501b5c5763a"
      },
      "execution_count": null,
      "outputs": [
        {
          "output_type": "execute_result",
          "data": {
            "text/plain": [
              "14"
            ]
          },
          "metadata": {},
          "execution_count": 139
        }
      ]
    },
    {
      "cell_type": "code",
      "source": [
        "# Add consequtive elements from two different lists\n",
        "l1 =[23,45,67,34]\n",
        "l2 =[12,89,56,43]\n",
        "\n",
        "l3 = list(map(lambda x,y:x+y,l1,l2))\n",
        "l3"
      ],
      "metadata": {
        "colab": {
          "base_uri": "https://localhost:8080/"
        },
        "id": "9yIf6sUDtbF-",
        "outputId": "52f079f4-6487-4af1-9189-5cc856b40020"
      },
      "execution_count": null,
      "outputs": [
        {
          "output_type": "execute_result",
          "data": {
            "text/plain": [
              "[35, 134, 123, 77]"
            ]
          },
          "metadata": {},
          "execution_count": 142
        }
      ]
    },
    {
      "cell_type": "code",
      "source": [
        "#write a program to find the factorial of number using reduce\n",
        "# ls=[45,3,4,5,6]\n",
        "# l2=[5,7,3,4,5]\n",
        "#reduce((lambda x,y :factorial(x) if(x<y) else y),ls)\n",
        "\n",
        "ls =list(range(1,i+1))\n",
        "\n",
        "reduce(lambda x,y:x*y,ls)\n",
        "\n"
      ],
      "metadata": {
        "colab": {
          "base_uri": "https://localhost:8080/"
        },
        "id": "nACY8TrowNOC",
        "outputId": "c7247ced-823a-4cb4-cdf5-c6c762783980"
      },
      "execution_count": null,
      "outputs": [
        {
          "output_type": "execute_result",
          "data": {
            "text/plain": [
              "[1, 2, 3]"
            ]
          },
          "metadata": {},
          "execution_count": 152
        }
      ]
    },
    {
      "cell_type": "code",
      "source": [
        "#\n",
        "l1 = [3,4,5]\n",
        "l2 = []\n",
        "for i in l1:\n",
        "  l2.append(reduce((lambda x,y:x*y),range(1,i+1)))\n",
        "\n",
        "l2"
      ],
      "metadata": {
        "colab": {
          "base_uri": "https://localhost:8080/"
        },
        "id": "BQH5ToSZ0u0I",
        "outputId": "d7d17a5f-938b-4777-d631-8aa92fd53439"
      },
      "execution_count": null,
      "outputs": [
        {
          "output_type": "execute_result",
          "data": {
            "text/plain": [
              "[6, 24, 120]"
            ]
          },
          "metadata": {},
          "execution_count": 155
        }
      ]
    },
    {
      "cell_type": "code",
      "source": [
        "words = ['apple','donkey','fish','air','angle','banana']\n",
        "#if word statrs with a display the length of the word , convert it into upper case\n",
        "newWordls = list()\n",
        "for i in words:\n",
        "   if(i.startswith('a')):\n",
        "     newWordls.append(len(i))\n",
        "   else:\n",
        "     newWordls.append(i.upper())   \n",
        "newWordls\n",
        "\n"
      ],
      "metadata": {
        "colab": {
          "base_uri": "https://localhost:8080/"
        },
        "id": "g3JSa6AV1btT",
        "outputId": "dab733d5-42fd-437e-b8e8-cff0e30417e9"
      },
      "execution_count": null,
      "outputs": [
        {
          "output_type": "execute_result",
          "data": {
            "text/plain": [
              "[5, 'DONKEY', 'FISH', 3, 5, 'BANANA']"
            ]
          },
          "metadata": {},
          "execution_count": 39
        }
      ]
    },
    {
      "cell_type": "code",
      "source": [
        "words = ['apple','donkey','fish','air','angle','banana']\n",
        "#if word stars with a display the length of the word , convert it into upper case\n",
        "  \n",
        "list([len(i) if(i.startswith('a')) else i.upper() for i in words])\n",
        "\n",
        "    \n"
      ],
      "metadata": {
        "colab": {
          "base_uri": "https://localhost:8080/"
        },
        "id": "MYqYwKwq5X4Q",
        "outputId": "463766a9-dd58-42ce-fa12-a0e4c7f89e13"
      },
      "execution_count": null,
      "outputs": [
        {
          "output_type": "execute_result",
          "data": {
            "text/plain": [
              "[5, 'DONKEY', 'FISH', 3, 5, 'BANANA']"
            ]
          },
          "metadata": {},
          "execution_count": 31
        }
      ]
    }
  ]
}