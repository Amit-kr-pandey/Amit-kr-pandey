{
  "nbformat": 4,
  "nbformat_minor": 0,
  "metadata": {
    "colab": {
      "name": "Advanced_python_day4.ipynb",
      "provenance": [],
      "collapsed_sections": [],
      "authorship_tag": "ABX9TyPHeGIxdmVRYqGxlNMjscof",
      "include_colab_link": true
    },
    "kernelspec": {
      "name": "python3",
      "display_name": "Python 3"
    },
    "language_info": {
      "name": "python"
    }
  },
  "cells": [
    {
      "cell_type": "markdown",
      "metadata": {
        "id": "view-in-github",
        "colab_type": "text"
      },
      "source": [
        "<a href=\"https://colab.research.google.com/github/Amit-kr-pandey/Amit-kr-pandey/blob/main/Advanced_python_day4.ipynb\" target=\"_parent\"><img src=\"https://colab.research.google.com/assets/colab-badge.svg\" alt=\"Open In Colab\"/></a>"
      ]
    },
    {
      "cell_type": "code",
      "source": [
        "# from  charmod import Car "
      ],
      "metadata": {
        "id": "D28fCZ-KYxkW"
      },
      "execution_count": null,
      "outputs": []
    },
    {
      "cell_type": "code",
      "source": [
        "# C = Car(40,\"black\")"
      ],
      "metadata": {
        "id": "yVumj54pgfIs"
      },
      "execution_count": null,
      "outputs": []
    },
    {
      "cell_type": "code",
      "source": [
        "# common code across program "
      ],
      "metadata": {
        "id": "1EIf5zXlfqBO"
      },
      "execution_count": null,
      "outputs": []
    },
    {
      "cell_type": "code",
      "source": [
        "#create package\n",
        "#package is a folder and __init__() is present by default\n",
        "#create antoher files with function names"
      ],
      "metadata": {
        "id": "TWoW96RBc8iJ"
      },
      "execution_count": null,
      "outputs": []
    },
    {
      "cell_type": "code",
      "source": [
        "#from my_package import rose,lilly"
      ],
      "metadata": {
        "id": "Hr2AVjCoe7LU"
      },
      "execution_count": null,
      "outputs": []
    },
    {
      "cell_type": "code",
      "source": [
        "# rose.rose()\n",
        "# def rose():\n",
        "#   print(\"rose are Red:\")"
      ],
      "metadata": {
        "id": "zInMM5W_fZYb"
      },
      "execution_count": null,
      "outputs": []
    },
    {
      "cell_type": "code",
      "source": [
        "# lilly.lilly()\n",
        "# def lilly():\n",
        "#   print(\"lillies are white:\") "
      ],
      "metadata": {
        "id": "CnCK1t6pfc8m"
      },
      "execution_count": null,
      "outputs": []
    },
    {
      "cell_type": "code",
      "source": [
        "#Exception Handling\n",
        "#try...except....finally\n",
        "#finally = code whether exception or not it will execute\n",
        "\n",
        "try:\n",
        "    i = int(input(\"Enter the number:\"))\n",
        "except ValueError:\n",
        "  i = int(input(\"you have to to enter number only,dont enter alphabets\"))\n",
        "finally:\n",
        "  print(i+1)"
      ],
      "metadata": {
        "colab": {
          "base_uri": "https://localhost:8080/"
        },
        "id": "hreiLQ4Qfu_v",
        "outputId": "041b2625-6056-435c-9158-a158e8874baf"
      },
      "execution_count": null,
      "outputs": [
        {
          "output_type": "stream",
          "name": "stdout",
          "text": [
            "Enter the number:a\n",
            "you have to to enter number only,dont enter alphabets12\n",
            "13\n"
          ]
        }
      ]
    },
    {
      "cell_type": "code",
      "source": [
        "#else construct\n",
        "#try...except....else\n",
        "try:\n",
        "    i = int(input(\"Enter the number:\"))\n",
        "except ValueError:\n",
        "  i = int(input(\"you have to to enter number only,dont enter alphabets\"))\n",
        "else:\n",
        "  print(i+1)"
      ],
      "metadata": {
        "colab": {
          "base_uri": "https://localhost:8080/"
        },
        "id": "BOv9PpptlHDE",
        "outputId": "363e064f-18ea-408d-890b-06ca9c6b083c"
      },
      "execution_count": null,
      "outputs": [
        {
          "name": "stdout",
          "output_type": "stream",
          "text": [
            "Enter the number:s\n",
            "you have to to enter number only,dont enter alphabets23\n"
          ]
        }
      ]
    },
    {
      "cell_type": "code",
      "source": [
        "#it will except the TypeError and give another chace to execute\n",
        "try:\n",
        "    i = input(\"Enter the number:\")\n",
        "    i = i+1\n",
        "except (TypeError,ValueError):\n",
        "  i = int(input(\"you have to to enter number only,dont enter alphabets\"))\n",
        "finally:\n",
        "  print(i+1)"
      ],
      "metadata": {
        "colab": {
          "base_uri": "https://localhost:8080/"
        },
        "id": "g-OeW8puluEI",
        "outputId": "1612c2a7-1174-40b3-91df-8baeb379f5b1"
      },
      "execution_count": null,
      "outputs": [
        {
          "output_type": "stream",
          "name": "stdout",
          "text": [
            "Enter the number:34\n",
            "you have to to enter number only,dont enter alphabets65\n",
            "66\n"
          ]
        }
      ]
    },
    {
      "cell_type": "code",
      "source": [
        "# Accept 2 numbers\n",
        "try:\n",
        "  num = int(input())\n",
        "  demos = int(input())\n",
        "  res = num/demos\n",
        "  print(res)\n",
        "except ZeroDivisionError as s:\n",
        "  print(s)"
      ],
      "metadata": {
        "colab": {
          "base_uri": "https://localhost:8080/"
        },
        "id": "-_aRUB20lu3m",
        "outputId": "06264f0c-f274-4fa7-80b0-55b72aaf2473"
      },
      "execution_count": null,
      "outputs": [
        {
          "output_type": "stream",
          "name": "stdout",
          "text": [
            "10\n",
            "0\n",
            "division by zero\n"
          ]
        }
      ]
    },
    {
      "cell_type": "code",
      "source": [
        "#user defiened exception\n",
        "#raise a exceptions by programmer\n",
        "try:\n",
        "  age =int(input())\n",
        "  if(age<18):\n",
        "    raise IOError\n",
        "  else:\n",
        "      print(\"you are eligible\")\n",
        "except IOError:\n",
        "  print(\"you are not eligible\")"
      ],
      "metadata": {
        "colab": {
          "base_uri": "https://localhost:8080/"
        },
        "id": "4-Ed5olTlu91",
        "outputId": "36ff961c-7733-4e42-8e4b-1ce29146c30e"
      },
      "execution_count": null,
      "outputs": [
        {
          "output_type": "stream",
          "name": "stdout",
          "text": [
            "12\n",
            "you are not eligible\n"
          ]
        }
      ]
    },
    {
      "cell_type": "code",
      "source": [
        "#raise another example\n",
        "try:\n",
        "  age =int(input())\n",
        "  if(age<18):\n",
        "    raise IOError(\"Minor;you are eligible\")\n",
        "  else:\n",
        "      print(\"you are eligible\")\n",
        "except IOError as e:\n",
        "  print(e)"
      ],
      "metadata": {
        "colab": {
          "base_uri": "https://localhost:8080/"
        },
        "id": "749milRhlvEY",
        "outputId": "b032bcc6-728f-4a24-df0e-d35f754c05c9"
      },
      "execution_count": null,
      "outputs": [
        {
          "output_type": "stream",
          "name": "stdout",
          "text": [
            "13\n",
            "Minor;you are eligible\n"
          ]
        }
      ]
    },
    {
      "cell_type": "code",
      "source": [
        "#create a subclass of Exception class\n",
        "class ErrorInCode(Exception):\n",
        "  def __init__(self,data):\n",
        "    self.data = data\n",
        "  def __str__(self):\n",
        "    return repr(self.data)\n",
        "try:\n",
        "  i=input(\"Enter your city\")\n",
        "  if(i>\"abc\"):\n",
        "    raise ErrorInCode(2323)\n",
        "except ErrorInCode as e:\n",
        "  print(\"Error raise with code \" , e.data)"
      ],
      "metadata": {
        "colab": {
          "base_uri": "https://localhost:8080/"
        },
        "id": "MsKI2UaepH6W",
        "outputId": "bb074233-c41d-47a0-a633-90746d6ecee3"
      },
      "execution_count": 17,
      "outputs": [
        {
          "name": "stdout",
          "output_type": "stream",
          "text": [
            "Enter your city12311\n"
          ]
        }
      ]
    },
    {
      "cell_type": "code",
      "source": [
        ""
      ],
      "metadata": {
        "id": "WqBBNCo85Pb0"
      },
      "execution_count": null,
      "outputs": []
    },
    {
      "cell_type": "markdown",
      "source": [
        "# File Handling\n"
      ],
      "metadata": {
        "id": "FTCRmPtP5ycF"
      }
    },
    {
      "cell_type": "code",
      "source": [
        "#files = txt,csv,xls,json,xml\n",
        "#database =sql(RDBMS-Oracle,Mysql,SQL,Network)\n"
      ],
      "metadata": {
        "id": "lwfOdlXu55Fr"
      },
      "execution_count": null,
      "outputs": []
    },
    {
      "cell_type": "code",
      "source": [
        "#1.open the file - \n",
        "# 'r' - default\n",
        "# 'a' - append\n",
        "# 'w' - write\n",
        "# 'x' - create\n",
        "#2.read / write / append\n",
        "#3 close"
      ],
      "metadata": {
        "id": "pgLHg-uI5Po-"
      },
      "execution_count": null,
      "outputs": []
    },
    {
      "cell_type": "code",
      "source": [
        "with open(\"sampleText.txt\",\"w\") as f_hand:\n",
        "  f_hand.write(\"First line in the file\\n\")\n",
        "f_hand.close()"
      ],
      "metadata": {
        "id": "0JOS7jRdpIHi"
      },
      "execution_count": 18,
      "outputs": []
    },
    {
      "cell_type": "code",
      "source": [
        "with open(\"sampleText.txt\",\"a\") as f_hand:\n",
        "  f_hand.write(\"Second line in the file\\n\")\n",
        "f_hand.close()"
      ],
      "metadata": {
        "id": "XdbwVpzR9Nsl"
      },
      "execution_count": 23,
      "outputs": []
    },
    {
      "cell_type": "code",
      "source": [
        "with open(\"sampleText.txt\",\"r\") as f_hand:\n",
        "      print(f_hand.read())\n",
        "f_hand.close()"
      ],
      "metadata": {
        "colab": {
          "base_uri": "https://localhost:8080/"
        },
        "id": "d1Be3_ko9n_6",
        "outputId": "6ae87366-8623-4381-e947-baa4c073c85c"
      },
      "execution_count": 24,
      "outputs": [
        {
          "output_type": "stream",
          "name": "stdout",
          "text": [
            "First line in the file\n",
            "Second line in the file\n",
            "\n"
          ]
        }
      ]
    },
    {
      "cell_type": "code",
      "source": [
        "#4.a Find repeat count in a string(Example2)\n",
        "#same for pdf files\n",
        "with open(\"sampleText.txt\",\"r\") as f_hand:\n",
        "      sentence = f_hand.read()\n",
        "      word = sentence.split()\n",
        "      print(word)\n",
        "      dict = {}\n",
        "      for i in word:\n",
        "        dict[i] = dict.get(i,0)+1\n",
        "        print(dict)\n",
        "f_hand.close()"
      ],
      "metadata": {
        "colab": {
          "base_uri": "https://localhost:8080/"
        },
        "id": "y50Uwbr2-VRD",
        "outputId": "f7220d7b-c849-4259-f215-b0af32a64658"
      },
      "execution_count": 34,
      "outputs": [
        {
          "output_type": "stream",
          "name": "stdout",
          "text": [
            "['First', 'line', 'in', 'the', 'file', 'Second', 'line', 'in', 'the', 'file']\n",
            "{'First': 1}\n",
            "{'First': 1, 'line': 1}\n",
            "{'First': 1, 'line': 1, 'in': 1}\n",
            "{'First': 1, 'line': 1, 'in': 1, 'the': 1}\n",
            "{'First': 1, 'line': 1, 'in': 1, 'the': 1, 'file': 1}\n",
            "{'First': 1, 'line': 1, 'in': 1, 'the': 1, 'file': 1, 'Second': 1}\n",
            "{'First': 1, 'line': 2, 'in': 1, 'the': 1, 'file': 1, 'Second': 1}\n",
            "{'First': 1, 'line': 2, 'in': 2, 'the': 1, 'file': 1, 'Second': 1}\n",
            "{'First': 1, 'line': 2, 'in': 2, 'the': 2, 'file': 1, 'Second': 1}\n",
            "{'First': 1, 'line': 2, 'in': 2, 'the': 2, 'file': 2, 'Second': 1}\n"
          ]
        }
      ]
    },
    {
      "cell_type": "code",
      "source": [
        "#handling csv files\n",
        "import csv "
      ],
      "metadata": {
        "id": "YgQwes_--VaH"
      },
      "execution_count": 55,
      "outputs": []
    },
    {
      "cell_type": "code",
      "source": [
        "\n",
        "with open(\"samplecsv.csv\",\"w\",newline = \"\") as f_hand:\n",
        "  writer = csv.writer(f_hand)\n",
        "  writer.writerow([\"sl.no\",\"Ename\",\"yearOfJoin\"])"
      ],
      "metadata": {
        "id": "slESkry1pIWX"
      },
      "execution_count": 64,
      "outputs": []
    },
    {
      "cell_type": "code",
      "source": [
        " \n",
        "with open(\"samplecsv.csv\",\"a\",newline = \"\") as f_hand:\n",
        "  writer = csv.writer(f_hand)\n",
        "  writer.writerow([3,\"vikash\",1998])"
      ],
      "metadata": {
        "id": "emCcqi61lvJj"
      },
      "execution_count": 58,
      "outputs": []
    },
    {
      "cell_type": "code",
      "source": [
        " \n",
        "with open(\"samplecsv.csv\",\"a\",newline = \"\") as f_hand:\n",
        "  writer = csv.writer(f_hand)\n",
        "  writer.writerow([3,\"harsh\",1999])"
      ],
      "metadata": {
        "id": "1CilLZ7vFp-K"
      },
      "execution_count": 69,
      "outputs": []
    },
    {
      "cell_type": "code",
      "source": [
        " \n",
        "with open(\"samplecsv.csv\",\"r\") as f_hand:\n",
        "  reader = csv.reader(f_hand)\n",
        "  for row in reader:\n",
        "    print(row)"
      ],
      "metadata": {
        "colab": {
          "base_uri": "https://localhost:8080/"
        },
        "id": "ZSw8TFiFEa5d",
        "outputId": "8f13d544-1e8a-45ce-a7fe-b88bad01d7df"
      },
      "execution_count": 70,
      "outputs": [
        {
          "output_type": "stream",
          "name": "stdout",
          "text": [
            "['sl.no', 'Ename', 'yearOfJoin']\n",
            "['1', 'binay', '2021']\n",
            "['2', 'kaushik', '2022']\n",
            "['3', 'harsh', '1999']\n"
          ]
        }
      ]
    },
    {
      "cell_type": "code",
      "source": [
        "!pip install pyPDF2"
      ],
      "metadata": {
        "colab": {
          "base_uri": "https://localhost:8080/"
        },
        "id": "8QMizdn4HB65",
        "outputId": "a54923c6-7a99-4e93-b434-f3f03a4b548a"
      },
      "execution_count": 84,
      "outputs": [
        {
          "output_type": "stream",
          "name": "stdout",
          "text": [
            "Requirement already satisfied: pyPDF2 in /usr/local/lib/python3.7/dist-packages (1.27.9)\n"
          ]
        }
      ]
    },
    {
      "cell_type": "code",
      "source": [
        "import PyPDF2"
      ],
      "metadata": {
        "id": "-oq7T_xxHCF2"
      },
      "execution_count": 85,
      "outputs": []
    },
    {
      "cell_type": "code",
      "source": [
        "pdfFileobj = open(\"filename.pdf\",\"rb\")\n",
        "#rb = "
      ],
      "metadata": {
        "id": "RENc280YHCM5"
      },
      "execution_count": null,
      "outputs": []
    },
    {
      "cell_type": "code",
      "source": [
        "pdfFileobj.read()"
      ],
      "metadata": {
        "id": "KyXZt3emJz4y"
      },
      "execution_count": null,
      "outputs": []
    },
    {
      "cell_type": "code",
      "source": [
        "pdfReader = PyPDF2.PdfFileReader(pdfFileobj)"
      ],
      "metadata": {
        "id": "jwOr1RmxJ_Zb"
      },
      "execution_count": null,
      "outputs": []
    },
    {
      "cell_type": "code",
      "source": [
        "#nunber of pages in pdf\n",
        "print(\"no of pages in the document\",pdfReader.numPages)"
      ],
      "metadata": {
        "id": "exXFOPHyKNVp"
      },
      "execution_count": null,
      "outputs": []
    },
    {
      "cell_type": "code",
      "source": [
        "#pdfReader.getpage(1) - reutrn the page\n",
        "pageObj = pdfReader.getPage(0)\n",
        "pageObj.extractText()"
      ],
      "metadata": {
        "id": "NYnujB9uKcUo"
      },
      "execution_count": null,
      "outputs": []
    },
    {
      "cell_type": "code",
      "source": [
        "#extactText() - help in extracting text\n"
      ],
      "metadata": {
        "id": "XfY3Vpy7KcaM"
      },
      "execution_count": null,
      "outputs": []
    },
    {
      "cell_type": "markdown",
      "source": [
        "# Generators\n"
      ],
      "metadata": {
        "id": "WgX9RsmYQ0gE"
      }
    },
    {
      "cell_type": "code",
      "source": [
        "##Generators\n",
        "#it is function which creates its own iterator \n",
        "# it return an iterator object with a sequence of values\n",
        "#yied statemet instead of return statement\n",
        "#diff = return terminates the function entirely\n",
        "#yied pauses the function,save the state and when called again continues\n"
      ],
      "metadata": {
        "id": "yX-plysSKch3"
      },
      "execution_count": null,
      "outputs": []
    },
    {
      "cell_type": "code",
      "source": [
        "#must contain one or more yield statement\n",
        "#iter(),next() ;stopiteration()\n",
        "#1. Easy to implement\n",
        "#2. memory efficient\n",
        "#3. pipeline generators "
      ],
      "metadata": {
        "id": "OwF16u30RlgM"
      },
      "execution_count": null,
      "outputs": []
    },
    {
      "cell_type": "code",
      "source": [
        "# a generator\n",
        "def my_gen():\n",
        "  n = 1\n",
        "  print(\"This is the first line\")\n",
        "  yield n\n",
        "\n",
        "  n = n+1\n",
        "  print(\"This is the second line\")\n",
        "  yield n #similar to return but it will pause the function\n",
        "\n",
        "  n = n+1\n",
        "  print(\"This is the Third line\")\n",
        "  yield n"
      ],
      "metadata": {
        "id": "kAUnOmOrRlnw"
      },
      "execution_count": 87,
      "outputs": []
    },
    {
      "cell_type": "code",
      "source": [
        "a = my_gen()"
      ],
      "metadata": {
        "id": "A46KJ0xeRls3"
      },
      "execution_count": 89,
      "outputs": []
    },
    {
      "cell_type": "code",
      "source": [
        "next(a)"
      ],
      "metadata": {
        "colab": {
          "base_uri": "https://localhost:8080/"
        },
        "id": "mWUa43nBRlw7",
        "outputId": "4f1397dd-e7d6-480b-b37b-87289078fa20"
      },
      "execution_count": 90,
      "outputs": [
        {
          "output_type": "stream",
          "name": "stdout",
          "text": [
            "This is the first line\n"
          ]
        },
        {
          "output_type": "execute_result",
          "data": {
            "text/plain": [
              "1"
            ]
          },
          "metadata": {},
          "execution_count": 90
        }
      ]
    },
    {
      "cell_type": "code",
      "source": [
        "next(a)"
      ],
      "metadata": {
        "colab": {
          "base_uri": "https://localhost:8080/"
        },
        "id": "QWd1Gvn2S00P",
        "outputId": "6ce89cee-ca98-48aa-f48e-cbf1676936f5"
      },
      "execution_count": 91,
      "outputs": [
        {
          "output_type": "stream",
          "name": "stdout",
          "text": [
            "This is the second line\n"
          ]
        },
        {
          "output_type": "execute_result",
          "data": {
            "text/plain": [
              "2"
            ]
          },
          "metadata": {},
          "execution_count": 91
        }
      ]
    },
    {
      "cell_type": "code",
      "source": [
        "next(a)"
      ],
      "metadata": {
        "colab": {
          "base_uri": "https://localhost:8080/"
        },
        "id": "uHLJdl0cS0rd",
        "outputId": "9b1fe64d-2e50-4267-91ee-37ef8eb90277"
      },
      "execution_count": 92,
      "outputs": [
        {
          "output_type": "stream",
          "name": "stdout",
          "text": [
            "This is the Third line\n"
          ]
        },
        {
          "output_type": "execute_result",
          "data": {
            "text/plain": [
              "3"
            ]
          },
          "metadata": {},
          "execution_count": 92
        }
      ]
    },
    {
      "cell_type": "code",
      "source": [
        "next(a)"
      ],
      "metadata": {
        "colab": {
          "base_uri": "https://localhost:8080/",
          "height": 169
        },
        "id": "hg_yVqgPS_PZ",
        "outputId": "424b71e3-5246-4c67-91cd-713b19e106f7"
      },
      "execution_count": 94,
      "outputs": [
        {
          "output_type": "error",
          "ename": "StopIteration",
          "evalue": "ignored",
          "traceback": [
            "\u001b[0;31m---------------------------------------------------------------------------\u001b[0m",
            "\u001b[0;31mStopIteration\u001b[0m                             Traceback (most recent call last)",
            "\u001b[0;32m<ipython-input-94-15841f3f11d4>\u001b[0m in \u001b[0;36m<module>\u001b[0;34m()\u001b[0m\n\u001b[0;32m----> 1\u001b[0;31m \u001b[0mnext\u001b[0m\u001b[0;34m(\u001b[0m\u001b[0ma\u001b[0m\u001b[0;34m)\u001b[0m\u001b[0;34m\u001b[0m\u001b[0;34m\u001b[0m\u001b[0m\n\u001b[0m",
            "\u001b[0;31mStopIteration\u001b[0m: "
          ]
        }
      ]
    },
    {
      "cell_type": "code",
      "source": [
        "for item in my_gen():\n",
        "  print(item)"
      ],
      "metadata": {
        "colab": {
          "base_uri": "https://localhost:8080/"
        },
        "id": "-n_VF7_9S_Jn",
        "outputId": "a5292178-ecc6-480c-a634-dfa85d1deb73"
      },
      "execution_count": 95,
      "outputs": [
        {
          "output_type": "stream",
          "name": "stdout",
          "text": [
            "This is the first line\n",
            "1\n",
            "This is the second line\n",
            "2\n",
            "This is the Third line\n",
            "3\n"
          ]
        }
      ]
    },
    {
      "cell_type": "markdown",
      "source": [
        "# Web scraping"
      ],
      "metadata": {
        "id": "XRRf3-P4WZxs"
      }
    },
    {
      "cell_type": "code",
      "source": [
        "# extracting or gathering informaiton from the internett\n",
        "\n",
        "#selenium\n",
        "#package - beautifulsoup"
      ],
      "metadata": {
        "id": "1vOFyX4RVoFG"
      },
      "execution_count": null,
      "outputs": []
    },
    {
      "cell_type": "code",
      "source": [
        "#why web scraping - automation vs manual data collection and processing\n"
      ],
      "metadata": {
        "id": "plw5sdH1VoMz"
      },
      "execution_count": null,
      "outputs": []
    },
    {
      "cell_type": "code",
      "source": [
        "#1.HTML Tags\n",
        "#2 imbibe in yourpython scripts\n",
        "#3 package requests"
      ],
      "metadata": {
        "id": "3iqk8WaXVoQ7"
      },
      "execution_count": null,
      "outputs": []
    },
    {
      "cell_type": "code",
      "source": [
        "!pip install requests"
      ],
      "metadata": {
        "colab": {
          "base_uri": "https://localhost:8080/"
        },
        "id": "SRhayXZQXvIX",
        "outputId": "50fb86eb-3caf-4645-9a11-f49d0607c46d"
      },
      "execution_count": 96,
      "outputs": [
        {
          "output_type": "stream",
          "name": "stdout",
          "text": [
            "Requirement already satisfied: requests in /usr/local/lib/python3.7/dist-packages (2.23.0)\n",
            "Requirement already satisfied: idna<3,>=2.5 in /usr/local/lib/python3.7/dist-packages (from requests) (2.10)\n",
            "Requirement already satisfied: chardet<4,>=3.0.2 in /usr/local/lib/python3.7/dist-packages (from requests) (3.0.4)\n",
            "Requirement already satisfied: certifi>=2017.4.17 in /usr/local/lib/python3.7/dist-packages (from requests) (2021.10.8)\n",
            "Requirement already satisfied: urllib3!=1.25.0,!=1.25.1,<1.26,>=1.21.1 in /usr/local/lib/python3.7/dist-packages (from requests) (1.24.3)\n"
          ]
        }
      ]
    },
    {
      "cell_type": "code",
      "source": [
        "import requests"
      ],
      "metadata": {
        "id": "IKZY79faXvOd"
      },
      "execution_count": 97,
      "outputs": []
    },
    {
      "cell_type": "code",
      "source": [
        "url =\"https://www.flipkart.com/search?q=laptop&otracker=search&otracker1=search&marketplace=FLIPKART&as-show=on&as=off\" "
      ],
      "metadata": {
        "id": "UTJDWeLbYcpB"
      },
      "execution_count": 98,
      "outputs": []
    },
    {
      "cell_type": "code",
      "source": [
        "#HTTP get request;returns the HTML tags into a python obkect\n",
        "page= requests.get(url)\n",
        "print(page.text)"
      ],
      "metadata": {
        "id": "cSXs7oIJeY0i"
      },
      "execution_count": null,
      "outputs": []
    },
    {
      "cell_type": "code",
      "source": [
        "#beautifulsoup\n",
        "!pip install bs4"
      ],
      "metadata": {
        "colab": {
          "base_uri": "https://localhost:8080/"
        },
        "id": "WlN5qX27Yc8F",
        "outputId": "f1bc0f06-7ddc-4d93-f223-4b92a90a41f6"
      },
      "execution_count": 106,
      "outputs": [
        {
          "output_type": "stream",
          "name": "stdout",
          "text": [
            "Requirement already satisfied: bs4 in /usr/local/lib/python3.7/dist-packages (0.0.1)\n",
            "Requirement already satisfied: beautifulsoup4 in /usr/local/lib/python3.7/dist-packages (from bs4) (4.6.3)\n"
          ]
        }
      ]
    },
    {
      "cell_type": "code",
      "source": [
        "from bs4 import Beautifulsoup"
      ],
      "metadata": {
        "colab": {
          "base_uri": "https://localhost:8080/",
          "height": 330
        },
        "id": "oJQNekxtXvRS",
        "outputId": "91df4e11-9471-41e4-fb41-e9fdc2f39350"
      },
      "execution_count": 109,
      "outputs": [
        {
          "output_type": "error",
          "ename": "ImportError",
          "evalue": "ignored",
          "traceback": [
            "\u001b[0;31m---------------------------------------------------------------------------\u001b[0m",
            "\u001b[0;31mImportError\u001b[0m                               Traceback (most recent call last)",
            "\u001b[0;32m<ipython-input-109-eab54f05eca9>\u001b[0m in \u001b[0;36m<module>\u001b[0;34m()\u001b[0m\n\u001b[0;32m----> 1\u001b[0;31m \u001b[0;32mfrom\u001b[0m \u001b[0mbs4\u001b[0m \u001b[0;32mimport\u001b[0m \u001b[0mBeautifulsoup\u001b[0m\u001b[0;34m\u001b[0m\u001b[0;34m\u001b[0m\u001b[0m\n\u001b[0m",
            "\u001b[0;31mImportError\u001b[0m: cannot import name 'Beautifulsoup' from 'bs4' (/usr/local/lib/python3.7/dist-packages/bs4/__init__.py)",
            "",
            "\u001b[0;31m---------------------------------------------------------------------------\u001b[0;32m\nNOTE: If your import is failing due to a missing package, you can\nmanually install dependencies using either !pip or !apt.\n\nTo view examples of installing some common dependencies, click the\n\"Open Examples\" button below.\n\u001b[0;31m---------------------------------------------------------------------------\u001b[0m\n"
          ],
          "errorDetails": {
            "actions": [
              {
                "action": "open_url",
                "actionText": "Open Examples",
                "url": "/notebooks/snippets/importing_libraries.ipynb"
              }
            ]
          }
        }
      ]
    },
    {
      "cell_type": "code",
      "source": [
        "soup = Beautifulsoup(page.content,\"html.parser\")\n"
      ],
      "metadata": {
        "colab": {
          "base_uri": "https://localhost:8080/",
          "height": 169
        },
        "id": "fmLl1xnaS0kY",
        "outputId": "45981ecb-2402-4942-951d-62bae0302967"
      },
      "execution_count": 105,
      "outputs": [
        {
          "output_type": "error",
          "ename": "NameError",
          "evalue": "ignored",
          "traceback": [
            "\u001b[0;31m---------------------------------------------------------------------------\u001b[0m",
            "\u001b[0;31mNameError\u001b[0m                                 Traceback (most recent call last)",
            "\u001b[0;32m<ipython-input-105-77550a65c772>\u001b[0m in \u001b[0;36m<module>\u001b[0;34m()\u001b[0m\n\u001b[0;32m----> 1\u001b[0;31m \u001b[0msoup\u001b[0m \u001b[0;34m=\u001b[0m \u001b[0mBeautifulsoup\u001b[0m\u001b[0;34m(\u001b[0m\u001b[0mpage\u001b[0m\u001b[0;34m.\u001b[0m\u001b[0mcontent\u001b[0m\u001b[0;34m,\u001b[0m\u001b[0;34m\"html.parser\"\u001b[0m\u001b[0;34m)\u001b[0m\u001b[0;34m\u001b[0m\u001b[0;34m\u001b[0m\u001b[0m\n\u001b[0m",
            "\u001b[0;31mNameError\u001b[0m: name 'Beautifulsoup' is not defined"
          ]
        }
      ]
    },
    {
      "cell_type": "code",
      "source": [
        "results = soup.find(id = \"container\")\n",
        "results.prettify()"
      ],
      "metadata": {
        "id": "IyQBy2xNaOEJ"
      },
      "execution_count": null,
      "outputs": []
    },
    {
      "cell_type": "code",
      "source": [
        "products =[]\n",
        "prices =[]"
      ],
      "metadata": {
        "id": "3TLVan71aqKd"
      },
      "execution_count": null,
      "outputs": []
    },
    {
      "cell_type": "code",
      "source": [
        "for a in soup.findAll('div',class_='_2kHMtA'):\n",
        "   name=a.find('div',attrs={'class':'_4rR01T'})\n",
        "   prices =a.find('div',attrs={'class':'_30jeq3 _1_WHN1'})\n",
        "   products.append(name.text)\n",
        "   prices.append(prices.text)\n",
        "\n",
        "print(products)\n",
        "print(prices)"
      ],
      "metadata": {
        "colab": {
          "base_uri": "https://localhost:8080/",
          "height": 133
        },
        "id": "DLDhPRXTaqTG",
        "outputId": "19b01e04-e360-42a8-f208-d670c6a49c0f"
      },
      "execution_count": 108,
      "outputs": [
        {
          "output_type": "error",
          "ename": "SyntaxError",
          "evalue": "ignored",
          "traceback": [
            "\u001b[0;36m  File \u001b[0;32m\"<ipython-input-108-8f9831c1dfb1>\"\u001b[0;36m, line \u001b[0;32m1\u001b[0m\n\u001b[0;31m    for a in soup.findAll('div',class_)\u001b[0m\n\u001b[0m                                       ^\u001b[0m\n\u001b[0;31mSyntaxError\u001b[0m\u001b[0;31m:\u001b[0m invalid syntax\n"
          ]
        }
      ]
    },
    {
      "cell_type": "code",
      "source": [
        "# sending emails in python\n",
        "import smtplib"
      ],
      "metadata": {
        "id": "PyfUoL4FaqXn"
      },
      "execution_count": null,
      "outputs": []
    },
    {
      "cell_type": "code",
      "source": [
        "server = smtplib.SMTP_SSL(\"smtp.gmail.com\",465)\n"
      ],
      "metadata": {
        "id": "F7Ep0YXsaqc7"
      },
      "execution_count": null,
      "outputs": []
    },
    {
      "cell_type": "code",
      "source": [
        "server.login(\"From_example@gmail.com\",\"passwoord\")"
      ],
      "metadata": {
        "id": "UU1Nq3jxaqhK"
      },
      "execution_count": null,
      "outputs": []
    },
    {
      "cell_type": "code",
      "source": [
        "server.sendmail(\"From_example@gmail.com\",\"TO_amitesh3478@gmail.com\",\"HI message\")"
      ],
      "metadata": {
        "id": "aqNa0RhPdVPP"
      },
      "execution_count": null,
      "outputs": []
    },
    {
      "cell_type": "code",
      "source": [
        ""
      ],
      "metadata": {
        "id": "ALBsK4s3dVfT"
      },
      "execution_count": null,
      "outputs": []
    }
  ]
}