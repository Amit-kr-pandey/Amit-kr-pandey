{
  "nbformat": 4,
  "nbformat_minor": 0,
  "metadata": {
    "colab": {
      "name": "Day2_Assignment.ipynb",
      "provenance": [],
      "collapsed_sections": [],
      "toc_visible": true,
      "authorship_tag": "ABX9TyMm3Z6vSfBV8UXY6IFbE0Ao",
      "include_colab_link": true
    },
    "kernelspec": {
      "name": "python3",
      "display_name": "Python 3"
    },
    "language_info": {
      "name": "python"
    }
  },
  "cells": [
    {
      "cell_type": "markdown",
      "metadata": {
        "id": "view-in-github",
        "colab_type": "text"
      },
      "source": [
        "<a href=\"https://colab.research.google.com/github/Amit-kr-pandey/Amit-kr-pandey/blob/main/Day2_Assignment.ipynb\" target=\"_parent\"><img src=\"https://colab.research.google.com/assets/colab-badge.svg\" alt=\"Open In Colab\"/></a>"
      ]
    },
    {
      "cell_type": "markdown",
      "source": [
        "#ASSIGNMENTS"
      ],
      "metadata": {
        "id": "_lxQ0OBH1_QX"
      }
    },
    {
      "cell_type": "code",
      "source": [
        "# 1. Form a list by dividing every element by 2\n",
        "\n",
        "listNew = list(map(lambda x:x//2,range(2,40,5)))\n",
        "listNew"
      ],
      "metadata": {
        "colab": {
          "base_uri": "https://localhost:8080/"
        },
        "id": "8_KuUQQd2MVa",
        "outputId": "468b221d-5366-4233-c092-4aa4311026d5"
      },
      "execution_count": null,
      "outputs": [
        {
          "output_type": "execute_result",
          "data": {
            "text/plain": [
              "[1, 3, 6, 8, 11, 13, 16, 18]"
            ]
          },
          "metadata": {},
          "execution_count": 3
        }
      ]
    },
    {
      "cell_type": "code",
      "source": [
        "# 2. Form a list for all elements divisible by 5\n",
        "listDiv = list(range(5,100,5))\n",
        "listDiv"
      ],
      "metadata": {
        "colab": {
          "base_uri": "https://localhost:8080/"
        },
        "id": "UoejEJVZ2NWD",
        "outputId": "120a7693-225b-4d25-a6ae-c535859cab20"
      },
      "execution_count": null,
      "outputs": [
        {
          "output_type": "execute_result",
          "data": {
            "text/plain": [
              "[5, 10, 15, 20, 25, 30, 35, 40, 45, 50, 55, 60, 65, 70, 75, 80, 85, 90, 95]"
            ]
          },
          "metadata": {},
          "execution_count": 9
        }
      ]
    },
    {
      "cell_type": "code",
      "source": [
        "#3. Form a list of all elements such that dividing even numbers by 2\n",
        "# and odd numbers by 3\n",
        "\n",
        "listFirst = list(range(2,50,4))\n",
        "listSecond = [i//2 if(i%2==0) else i//3 for i in listFirst]\n",
        "listSecond"
      ],
      "metadata": {
        "colab": {
          "base_uri": "https://localhost:8080/"
        },
        "id": "QfcuS0NU4dBF",
        "outputId": "9d317c0c-0045-4207-9955-3a0b48500941"
      },
      "execution_count": null,
      "outputs": [
        {
          "output_type": "execute_result",
          "data": {
            "text/plain": [
              "[1, 3, 5, 7, 9, 11, 13, 15, 17, 19, 21, 23]"
            ]
          },
          "metadata": {},
          "execution_count": 11
        }
      ]
    },
    {
      "cell_type": "code",
      "source": [
        "#4. Form a list of all even numbers by multiplying by itself\n",
        "listNew = list(range(2,80,3))\n",
        "listSec = [i*i if(i%2 == 0) else i for i in listNew ]\n",
        "listSec"
      ],
      "metadata": {
        "colab": {
          "base_uri": "https://localhost:8080/"
        },
        "id": "dQZYklCp4eUY",
        "outputId": "fffa9429-b9ba-4ff9-a7d8-31efb1fdd741"
      },
      "execution_count": null,
      "outputs": [
        {
          "output_type": "execute_result",
          "data": {
            "text/plain": [
              "[4,\n",
              " 5,\n",
              " 64,\n",
              " 11,\n",
              " 196,\n",
              " 17,\n",
              " 400,\n",
              " 23,\n",
              " 676,\n",
              " 29,\n",
              " 1024,\n",
              " 35,\n",
              " 1444,\n",
              " 41,\n",
              " 1936,\n",
              " 47,\n",
              " 2500,\n",
              " 53,\n",
              " 3136,\n",
              " 59,\n",
              " 3844,\n",
              " 65,\n",
              " 4624,\n",
              " 71,\n",
              " 5476,\n",
              " 77]"
            ]
          },
          "metadata": {},
          "execution_count": 23
        }
      ]
    },
    {
      "cell_type": "code",
      "source": [
        "#5. Form all 3 digit number divide the numebr by 2\n",
        "#hint use str() method to convert integer to string\n",
        "\n",
        "ls = list(range(100,200,10))\n",
        "ls2 = [i/2 for i in ls if(len(str(i))==3)]\n",
        "ls2\n"
      ],
      "metadata": {
        "colab": {
          "base_uri": "https://localhost:8080/"
        },
        "id": "Qlldg8Q26ZHD",
        "outputId": "f2ca08f1-2a96-4959-d247-42199716e1d7"
      },
      "execution_count": 3,
      "outputs": [
        {
          "output_type": "execute_result",
          "data": {
            "text/plain": [
              "[50.0, 55.0, 60.0, 65.0, 70.0, 75.0, 80.0, 85.0, 90.0, 95.0]"
            ]
          },
          "metadata": {},
          "execution_count": 3
        }
      ]
    }
  ]
}