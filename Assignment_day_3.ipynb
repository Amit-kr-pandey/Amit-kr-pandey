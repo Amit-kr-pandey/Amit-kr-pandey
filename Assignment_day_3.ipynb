{
  "nbformat": 4,
  "nbformat_minor": 0,
  "metadata": {
    "colab": {
      "name": "Assignment_day_3.ipynb",
      "provenance": [],
      "collapsed_sections": [],
      "authorship_tag": "ABX9TyOhjj1wmLOhUiS/er/tmDnn",
      "include_colab_link": true
    },
    "kernelspec": {
      "name": "python3",
      "display_name": "Python 3"
    },
    "language_info": {
      "name": "python"
    }
  },
  "cells": [
    {
      "cell_type": "markdown",
      "metadata": {
        "id": "view-in-github",
        "colab_type": "text"
      },
      "source": [
        "<a href=\"https://colab.research.google.com/github/Amit-kr-pandey/Amit-kr-pandey/blob/main/Assignment_day_3.ipynb\" target=\"_parent\"><img src=\"https://colab.research.google.com/assets/colab-badge.svg\" alt=\"Open In Colab\"/></a>"
      ]
    },
    {
      "cell_type": "markdown",
      "source": [
        "# Assignsment \n"
      ],
      "metadata": {
        "id": "wbOgfe7WTzPN"
      }
    },
    {
      "cell_type": "code",
      "source": [
        "#1.\tWrite a program to implement a calculator:\n",
        "character = input(\"Enter the character : + , - , * , / , // , ** \")\n",
        "value1 = int(input(\"Enter the first number : \"))\n",
        "value2 = int(input(\"Enter the second number : \"))\n",
        "if(character == '+'):\n",
        "    print(\"Add of \",value1,\" and \",value2,\"is = \",value1+value2)\n",
        "elif(character == '-'):\n",
        "   print(\"Subtract of \",value1,\" and \",value2,\"is = \",value1-value2)\n",
        "elif(character == '*'):\n",
        "  print(\"Multiplication of \",value1,\" and \",value2,\"is = \",value1*value2)\n",
        "elif(character == '/'):\n",
        "  print(\"Decimal division of \",value1,\" and \",value2,\"is = \",value1/value2)\n",
        "elif(character == '//'):\n",
        "  print(\"Division of \",value1,\" and \",value2,\"is = \",value1//value2)    \n",
        "else:\n",
        "  print(\"Exponent of \",value1,\" and \",value2,\"is = \",value1**value2)"
      ],
      "metadata": {
        "colab": {
          "base_uri": "https://localhost:8080/"
        },
        "id": "CNTwPkJcT5cN",
        "outputId": "0c5b9efa-f2ca-45c9-b5e5-e4cf95d0add1"
      },
      "execution_count": null,
      "outputs": [
        {
          "output_type": "stream",
          "name": "stdout",
          "text": [
            "Enter the character : + , - , * , / , // , ** //\n",
            "Enter the first number : 3\n",
            "Enter the second number : 3\n",
            "Division of  3  and  3 is =  1\n"
          ]
        }
      ]
    },
    {
      "cell_type": "code",
      "source": [
        "#2.accept a number from the user. The number should be greater than 0 and less than 30000.\n",
        "num_str= input(\"Enter a number, that should be greater than 0 and less than 30000\\n\");\n",
        "num_int= int(num_str)\n",
        "if (num_int > 1 and num_int <30000):\n",
        "   if len(num_str) >= 3:\n",
        "     third_digit = int(num_str[2])\n",
        "     print(third_digit)\n",
        "     if third_digit % 2 == 0:\n",
        "      print(third_digit,\"Today is sunny\")\n",
        "     else :\n",
        "      print(third_digit,\"Today is a rainy day\")\n",
        "   else :\n",
        "    print(\"today is windy day\")\n",
        "else :\n",
        " print(\"invalid input\")"
      ],
      "metadata": {
        "colab": {
          "base_uri": "https://localhost:8080/"
        },
        "id": "4ZfTOCwSC4Mw",
        "outputId": "cdcc891f-b645-4aec-ed57-4da362e1ecf8"
      },
      "execution_count": 28,
      "outputs": [
        {
          "output_type": "stream",
          "name": "stdout",
          "text": [
            "Enter a number, that should be greater than 0 and less than 30000\n",
            "342\n",
            "2\n",
            "2 Today is sunny\n"
          ]
        }
      ]
    },
    {
      "cell_type": "code",
      "source": [
        " #b. Find the average of all prime numbers and display\n",
        "def functionprime(x):\n",
        " flag = 0\n",
        " n = (x)//2\n",
        " if(x == 0 or x ==1):\n",
        "  flag =1\n",
        " for i in range(2,n):\n",
        "   if(x % i == 0):\n",
        "     flag =1\n",
        "     break\n",
        " if(flag==0):\n",
        "   return (True)\n",
        " else:\n",
        "   return (False)"
      ],
      "metadata": {
        "id": "w-k4wbf3IwX0"
      },
      "execution_count": null,
      "outputs": []
    },
    {
      "cell_type": "code",
      "source": [
        "\n",
        "l1 = [34,23,32,11,7,9,19]\n",
        "l2 = [i for i in l1 if(functionprime(i))]\n",
        "\n",
        "from functools import reduce\n",
        " \n",
        "reduce(lambda x,y:(x+y)//len(l2),l2)"
      ],
      "metadata": {
        "colab": {
          "base_uri": "https://localhost:8080/"
        },
        "id": "ij7rP6ZGJEzo",
        "outputId": "bec00871-640e-432c-b718-e8cd1ed4b53f"
      },
      "execution_count": null,
      "outputs": [
        {
          "output_type": "execute_result",
          "data": {
            "text/plain": [
              "5"
            ]
          },
          "metadata": {},
          "execution_count": 43
        }
      ]
    },
    {
      "cell_type": "code",
      "source": [
        "#3.a. Find the factorial of a number using reduce.\n",
        "num = int(input(\"Enter a number\"))\n",
        "from functools import reduce\n",
        "reduce(lambda x,y:x*y,range(1,num+1))"
      ],
      "metadata": {
        "colab": {
          "base_uri": "https://localhost:8080/"
        },
        "id": "qFg5wu5YQS6k",
        "outputId": "47987c4e-e792-4538-9af0-d26cc9c0e0ae"
      },
      "execution_count": null,
      "outputs": [
        {
          "name": "stdout",
          "output_type": "stream",
          "text": [
            "Enter a number5\n"
          ]
        },
        {
          "output_type": "execute_result",
          "data": {
            "text/plain": [
              "120"
            ]
          },
          "metadata": {},
          "execution_count": 51
        }
      ]
    },
    {
      "cell_type": "code",
      "source": [
        "#3.b\n",
        "employee = {\"John\":392480923849,\"Angel\":3920482039489}\n",
        " \n",
        "employee.get(\"john\")\n",
        "employee.get(\"Angel\")\n",
        "employee.get(\"Joe's \",\"unavailable\")\n",
        "\n",
        " "
      ],
      "metadata": {
        "colab": {
          "base_uri": "https://localhost:8080/",
          "height": 36
        },
        "id": "RGNFauNoY1_X",
        "outputId": "a058cac8-094a-432c-96e3-1cab5105fd1a"
      },
      "execution_count": null,
      "outputs": [
        {
          "output_type": "execute_result",
          "data": {
            "text/plain": [
              "'unavailable'"
            ],
            "application/vnd.google.colaboratory.intrinsic+json": {
              "type": "string"
            }
          },
          "metadata": {},
          "execution_count": 18
        }
      ]
    },
    {
      "cell_type": "code",
      "source": [
        "#3.c Pattern matching and how may times a given pattern if found in 4\n",
        "#a string\n",
        "pattern = \"#$#&example$#*Of$$pattern#$$matching\"\n",
        "matchPattern = pattern.split(\"$\")\n",
        "len(matchPattern)-1\n",
        " "
      ],
      "metadata": {
        "colab": {
          "base_uri": "https://localhost:8080/"
        },
        "id": "OVt3WVALe3dm",
        "outputId": "fa6b2a28-d5e7-478e-e70d-1b2ccaf69a7f"
      },
      "execution_count": null,
      "outputs": [
        {
          "output_type": "execute_result",
          "data": {
            "text/plain": [
              "6"
            ]
          },
          "metadata": {},
          "execution_count": 76
        }
      ]
    },
    {
      "cell_type": "code",
      "source": [
        "#4.a Find repeat count in a string\n",
        "repeatCount = \"I like candy I like milk candy I like chocolate candy\"\n",
        "print(\"I = \",repeatCount.count(\"I\"))\n",
        "print(\"like = \",repeatCount.count(\"like\"))\n",
        "print(\"candy = \",repeatCount.count(\"candy\"))\n",
        "\n",
        "\n"
      ],
      "metadata": {
        "id": "oyEzaNfqj4rQ",
        "colab": {
          "base_uri": "https://localhost:8080/"
        },
        "outputId": "1c7e2009-ac2c-4c24-9fba-17b6c3d45152"
      },
      "execution_count": null,
      "outputs": [
        {
          "output_type": "stream",
          "name": "stdout",
          "text": [
            "I =  3\n",
            "like =  3\n",
            "candy =  3\n"
          ]
        }
      ]
    },
    {
      "cell_type": "code",
      "source": [
        "#4.a Find repeat count in a string(Example2)\n",
        "repeatCount = \"I like candy I like milk candy I like chocolate candy\"\n",
        "word = repeatCount.split()\n",
        "print(word)\n",
        "dict = {}\n",
        "for i in word:\n",
        "  dict[i] = dict.get(i,0)+1\n",
        "print(dict)"
      ],
      "metadata": {
        "colab": {
          "base_uri": "https://localhost:8080/"
        },
        "id": "aKadTxRo7vF_",
        "outputId": "e978a866-8ed2-4562-c5ae-1fb175ae0ee8"
      },
      "execution_count": 21,
      "outputs": [
        {
          "output_type": "stream",
          "name": "stdout",
          "text": [
            "['I', 'like', 'candy', 'I', 'like', 'milk', 'candy', 'I', 'like', 'chocolate', 'candy']\n",
            "{'I': 3, 'like': 3, 'candy': 3, 'milk': 1, 'chocolate': 1}\n"
          ]
        }
      ]
    },
    {
      "cell_type": "code",
      "source": [
        "# 4.b\n",
        "# ls = list()\n",
        "ls = [12,5,6,9,20,15,25,7,3,2]\n",
        "lse = list(map(lambda x:x*2 if not x//5 else x,ls))\n",
        "lse"
      ],
      "metadata": {
        "colab": {
          "base_uri": "https://localhost:8080/"
        },
        "id": "S07131ODi4Gx",
        "outputId": "e5f38e62-05d9-4fb9-c1df-07de02f9623a"
      },
      "execution_count": null,
      "outputs": [
        {
          "output_type": "execute_result",
          "data": {
            "text/plain": [
              "[12, 5, 6, 9, 20, 15, 25, 7, 6, 4]"
            ]
          },
          "metadata": {},
          "execution_count": 16
        }
      ]
    },
    {
      "cell_type": "code",
      "source": [
        "#examples\n",
        "# pattern matching: find out how many times a given pattern is found in a string.\n",
        "#Rule: Use only string functions\n",
        "\n",
        "def count_substring(string,sub_string):\n",
        "  occ = 0\n",
        "  for i in range(0,len(string)):\n",
        "    slice_object = slice(i,len(sub_string)+1)\n",
        "    count = len(string[slice_object])\n",
        "    if(count == len(sub_string)):\n",
        "      if(sub_string == string[slice_object]):\n",
        "        occ = occ + 1\n",
        "  return occ\n",
        "\n",
        "if __name__== '__main__':\n",
        "  string = input().strip()\n",
        "  sub_string = input().strip()\n",
        "\n",
        "  count = count_substring(string,sub_string)\n",
        "  print(count)\n"
      ],
      "metadata": {
        "id": "0YsvifcFj9mZ",
        "colab": {
          "base_uri": "https://localhost:8080/"
        },
        "outputId": "76e21f2d-3ec6-45a5-837f-70556e5fa19c"
      },
      "execution_count": 22,
      "outputs": [
        {
          "output_type": "stream",
          "name": "stdout",
          "text": [
            "abddes\n",
            "abd\n",
            "0\n"
          ]
        }
      ]
    },
    {
      "cell_type": "markdown",
      "source": [
        "# Opps Assignment\n"
      ],
      "metadata": {
        "id": "QaMTw1oLqUud"
      }
    },
    {
      "cell_type": "code",
      "source": [
        "#1> Abstracrt class and methods\n",
        "from abc import abstractmethod,ABC\n",
        "class Medicine(ABC):\n",
        " \n",
        "  def getDetails(self ):pass\n",
        "        \n",
        "  @abstractmethod\n",
        "  def displayLabel(self):\n",
        "    pass\n",
        "\n",
        "class Tablet(Medicine):\n",
        "  def __init__(self):\n",
        "   def displayLabel(self):\n",
        "     print(\"store in a cool dry place\")\n",
        "\n",
        "class Syrup(Medicine):\n",
        " def __init__(self):\n",
        "\n",
        "  def displayLabel(self):\n",
        "     print(\"Should not be stored in cool places\")\n",
        "      \n",
        "\n",
        "class Ointment(Medicine):\n",
        "  def __init__(self ):    \n",
        "\n",
        "\n",
        "   def displayLabel(self):\n",
        "     print(\"for external use only\")\n",
        "        \n",
        "\n",
        "\n",
        " \n",
        "\n",
        "\n"
      ],
      "metadata": {
        "id": "EKvN-77nqc_A"
      },
      "execution_count": 20,
      "outputs": []
    },
    {
      "cell_type": "code",
      "source": [
        "#Inhanced repeatation code of day 2 \n",
        "#find the repeataiton in the list\n",
        "ls = [45,34,67,23,67,45,23,67,45,12,45]\n",
        "cntr = 0\n",
        "repeatlist=list()\n",
        "for i in ls:\n",
        "  repeatcount=0\n",
        "  for j in ls[cntr:]:    \n",
        "     if i == j:\n",
        "       if i not in repeatlist:                    \n",
        "           repeatlist.append(i)    \n",
        "       else:\n",
        "         print(i)\n",
        "         repeatcount = repeatcount +1\n",
        "  cntr += 1\n",
        "  print(repeatcount) \n",
        "print(repeatlist)\n",
        "\n"
      ],
      "metadata": {
        "colab": {
          "base_uri": "https://localhost:8080/"
        },
        "id": "QBqdmiJnuPHE",
        "outputId": "1eb5741e-5cbf-40a1-daed-7484c92ad6a4"
      },
      "execution_count": 17,
      "outputs": [
        {
          "output_type": "stream",
          "name": "stdout",
          "text": [
            "45\n",
            "45\n",
            "45\n",
            "3\n",
            "0\n",
            "67\n",
            "67\n",
            "2\n",
            "23\n",
            "1\n",
            "67\n",
            "67\n",
            "2\n",
            "45\n",
            "45\n",
            "45\n",
            "3\n",
            "23\n",
            "1\n",
            "67\n",
            "1\n",
            "45\n",
            "45\n",
            "2\n",
            "0\n",
            "45\n",
            "1\n",
            "[45, 34, 67, 23, 12]\n"
          ]
        }
      ]
    }
  ]
}