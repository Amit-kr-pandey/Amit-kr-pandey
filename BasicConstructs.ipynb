{
  "nbformat": 4,
  "nbformat_minor": 0,
  "metadata": {
    "colab": {
      "name": "BasicConstructs.ipynb",
      "provenance": [],
      "collapsed_sections": [],
      "toc_visible": true,
      "authorship_tag": "ABX9TyMxCB5HAVP/EwB6/P1pwojh",
      "include_colab_link": true
    },
    "kernelspec": {
      "name": "python3",
      "display_name": "Python 3"
    },
    "language_info": {
      "name": "python"
    }
  },
  "cells": [
    {
      "cell_type": "markdown",
      "metadata": {
        "id": "view-in-github",
        "colab_type": "text"
      },
      "source": [
        "<a href=\"https://colab.research.google.com/github/Amit-kr-pandey/Amit-kr-pandey/blob/main/BasicConstructs.ipynb\" target=\"_parent\"><img src=\"https://colab.research.google.com/assets/colab-badge.svg\" alt=\"Open In Colab\"/></a>"
      ]
    },
    {
      "cell_type": "code",
      "execution_count": null,
      "metadata": {
        "colab": {
          "base_uri": "https://localhost:8080/"
        },
        "id": "HJgX9TggYa8G",
        "outputId": "0cc30cb4-6e75-40b3-cfcd-1b180448c7f7"
      },
      "outputs": [
        {
          "output_type": "stream",
          "name": "stdout",
          "text": [
            "My name is Amit\n"
          ]
        }
      ],
      "source": [
        "# hello world proogram\n",
        "# i am wirting \n",
        "# my first program\n",
        "\n",
        "print(\"My name is Amit\")"
      ]
    },
    {
      "cell_type": "code",
      "source": [
        "#  program for concat and declare and initilize vairable\n",
        "myName = \"Amit\"\n",
        "\n",
        "print(\"My name is \" + myName)"
      ],
      "metadata": {
        "colab": {
          "base_uri": "https://localhost:8080/"
        },
        "id": "ECTfFfrKY5wA",
        "outputId": "6117c155-36c4-43be-d2ad-ceed18f7ea6b"
      },
      "execution_count": null,
      "outputs": [
        {
          "output_type": "stream",
          "name": "stdout",
          "text": [
            "My name is Amit\n"
          ]
        }
      ]
    },
    {
      "cell_type": "code",
      "source": [
        "#accept input from the user\n",
        "myName = input(\"Enter you name\")\n",
        "print(\"My name is : \" , myName)"
      ],
      "metadata": {
        "colab": {
          "base_uri": "https://localhost:8080/"
        },
        "id": "g9UI7ElGazHk",
        "outputId": "8f767720-4802-44d5-c8d9-ca1c0e13ab65"
      },
      "execution_count": null,
      "outputs": [
        {
          "output_type": "stream",
          "name": "stdout",
          "text": [
            "Enter you nameAmit\n",
            "My name is :  Amit\n"
          ]
        }
      ]
    },
    {
      "cell_type": "code",
      "source": [
        ""
      ],
      "metadata": {
        "id": "bf6oU0dIj9zV"
      },
      "execution_count": null,
      "outputs": []
    },
    {
      "cell_type": "code",
      "source": [
        ""
      ],
      "metadata": {
        "id": "tuUSSVuoj_KC"
      },
      "execution_count": null,
      "outputs": []
    },
    {
      "cell_type": "code",
      "source": [
        "# accept age from user\n",
        "# input method always return string; so typecast the data\n",
        "myAge = int(input(\"Enter your age\"))\n",
        "myage = myAge+1\n",
        "print(\"myAge\",myage)"
      ],
      "metadata": {
        "colab": {
          "base_uri": "https://localhost:8080/"
        },
        "id": "UsyYqjvxb7yC",
        "outputId": "48640c8d-8e0e-4b64-9eb2-0cd0c2086e4a"
      },
      "execution_count": null,
      "outputs": [
        {
          "output_type": "stream",
          "name": "stdout",
          "text": [
            "Enter your age23\n",
            "myAge 24\n"
          ]
        }
      ]
    },
    {
      "cell_type": "code",
      "source": [
        "x = int(input(\"Enter first number:\"))\n",
        "y = int(input(\"Enter second number:\"))\n",
        "z = x+y\n",
        "print(\"The Sum of two number is \",z)"
      ],
      "metadata": {
        "colab": {
          "base_uri": "https://localhost:8080/"
        },
        "id": "lwSdHQS9hWTl",
        "outputId": "01d345c5-078c-480e-8e88-3cdcca589121"
      },
      "execution_count": null,
      "outputs": [
        {
          "output_type": "stream",
          "name": "stdout",
          "text": [
            "Enter first number:2\n",
            "Enter first number:3\n",
            "The Sum of two number is  5\n"
          ]
        }
      ]
    },
    {
      "cell_type": "code",
      "source": [
        "x =5\n",
        "type(x)\n",
        "y=3.3\n",
        "\n",
        "print(type(y))\n",
        " "
      ],
      "metadata": {
        "colab": {
          "base_uri": "https://localhost:8080/"
        },
        "id": "i7H72EjZjOyg",
        "outputId": "e1516aa2-fbad-44a3-f5c9-1c1fc33d69a1"
      },
      "execution_count": null,
      "outputs": [
        {
          "output_type": "stream",
          "name": "stdout",
          "text": [
            "<class 'float'>\n"
          ]
        }
      ]
    },
    {
      "cell_type": "code",
      "source": [
        "# + addition\n",
        "# - substraction\n",
        "# * multiplication\n",
        "# // integer division\n",
        "# ** exponent\n",
        "# / division\n",
        "\n",
        "a = 13\n",
        "b = 5\n",
        "print(a*b)\n",
        "print(a/b)\n",
        "print(a//b)\n",
        "print(a%b)\n",
        "print(a**b)"
      ],
      "metadata": {
        "colab": {
          "base_uri": "https://localhost:8080/"
        },
        "id": "VisDMeYikBH2",
        "outputId": "734d5f3e-403a-47a4-9715-45a10d684710"
      },
      "execution_count": null,
      "outputs": [
        {
          "output_type": "stream",
          "name": "stdout",
          "text": [
            "65\n",
            "2.6\n",
            "2\n",
            "3\n",
            "371293\n"
          ]
        }
      ]
    },
    {
      "cell_type": "code",
      "source": [
        "# selectional / conditional constructiors\n",
        "x = int(input(\"enter your age\"))\n",
        "if(x>=18):\n",
        "  if(x>=50):\n",
        "    print(\"you are senoir citizen\")\n",
        "    print(\"You have voting right : \")\n",
        "  print(\"Your are a mojor now:\")\n",
        "elif(x>=13):\n",
        "  print(\"you do not have voting rights but you are a teenager\")\n",
        "else:\n",
        "  print(\"your do no have voting right\")\n",
        "  print(\"you are minor\")\n",
        "print(\"please contact nearest govt office\")"
      ],
      "metadata": {
        "colab": {
          "base_uri": "https://localhost:8080/"
        },
        "id": "_m7LIOK8ljoI",
        "outputId": "25dee97b-3d82-4c4d-b545-c83ea560b970"
      },
      "execution_count": null,
      "outputs": [
        {
          "output_type": "stream",
          "name": "stdout",
          "text": [
            "enter your age50\n",
            "you are senoir citizen\n",
            "You have voting right : \n",
            "Your are a mojor now:\n",
            "please contact nearest govt office\n"
          ]
        }
      ]
    },
    {
      "cell_type": "code",
      "source": [
        "#  even or odd\n",
        "num = int(input(\"Enter a number\"))\n",
        "if(num%2==0):\n",
        "  print(\"even number\")\n",
        "else:\n",
        "  print(\"odd number\")"
      ],
      "metadata": {
        "colab": {
          "base_uri": "https://localhost:8080/"
        },
        "id": "j4qHZARmqp8y",
        "outputId": "86b8702a-d56e-44aa-c934-11ac08a3ec0f"
      },
      "execution_count": null,
      "outputs": [
        {
          "output_type": "stream",
          "name": "stdout",
          "text": [
            "Enter a number3\n",
            "odd number\n"
          ]
        }
      ]
    },
    {
      "cell_type": "code",
      "source": [
        "#complext conditions - and , or\n",
        "x = 1\n",
        "y = 0\n",
        "if(x>2 and (x/y)>2):\n",
        "  print(\"enterd if \")\n",
        "# first condiion is false\n",
        "\n"
      ],
      "metadata": {
        "colab": {
          "base_uri": "https://localhost:8080/",
          "height": 217
        },
        "id": "ZAAA0waTryBf",
        "outputId": "b1f2b4c4-b03b-40da-8051-b06a1abe397a"
      },
      "execution_count": null,
      "outputs": [
        {
          "output_type": "error",
          "ename": "ZeroDivisionError",
          "evalue": "ignored",
          "traceback": [
            "\u001b[0;31m---------------------------------------------------------------------------\u001b[0m",
            "\u001b[0;31mZeroDivisionError\u001b[0m                         Traceback (most recent call last)",
            "\u001b[0;32m<ipython-input-26-747d36bf8b65>\u001b[0m in \u001b[0;36m<module>\u001b[0;34m()\u001b[0m\n\u001b[1;32m      2\u001b[0m \u001b[0mx\u001b[0m \u001b[0;34m=\u001b[0m \u001b[0;36m1\u001b[0m\u001b[0;34m\u001b[0m\u001b[0;34m\u001b[0m\u001b[0m\n\u001b[1;32m      3\u001b[0m \u001b[0my\u001b[0m \u001b[0;34m=\u001b[0m \u001b[0;36m0\u001b[0m\u001b[0;34m\u001b[0m\u001b[0;34m\u001b[0m\u001b[0m\n\u001b[0;32m----> 4\u001b[0;31m \u001b[0;32mif\u001b[0m\u001b[0;34m(\u001b[0m\u001b[0mx\u001b[0m\u001b[0;34m<\u001b[0m\u001b[0;36m2\u001b[0m \u001b[0;32mand\u001b[0m \u001b[0;34m(\u001b[0m\u001b[0mx\u001b[0m\u001b[0;34m/\u001b[0m\u001b[0my\u001b[0m\u001b[0;34m)\u001b[0m\u001b[0;34m>\u001b[0m\u001b[0;36m2\u001b[0m\u001b[0;34m)\u001b[0m\u001b[0;34m:\u001b[0m\u001b[0;34m\u001b[0m\u001b[0;34m\u001b[0m\u001b[0m\n\u001b[0m\u001b[1;32m      5\u001b[0m   \u001b[0mprint\u001b[0m\u001b[0;34m(\u001b[0m\u001b[0;34m\"enterd if \"\u001b[0m\u001b[0;34m)\u001b[0m\u001b[0;34m\u001b[0m\u001b[0;34m\u001b[0m\u001b[0m\n",
            "\u001b[0;31mZeroDivisionError\u001b[0m: division by zero"
          ]
        }
      ]
    },
    {
      "cell_type": "code",
      "source": [
        "# iteration construct \n",
        "# for , while\n",
        "for i in range(10):\n",
        "  print(i)"
      ],
      "metadata": {
        "colab": {
          "base_uri": "https://localhost:8080/"
        },
        "id": "7ZTsXpO_tQmc",
        "outputId": "a207bff7-2363-4d0e-f1d5-dc0238b3d20c"
      },
      "execution_count": null,
      "outputs": [
        {
          "output_type": "stream",
          "name": "stdout",
          "text": [
            "0\n",
            "1\n",
            "2\n",
            "3\n",
            "4\n",
            "5\n",
            "6\n",
            "7\n",
            "8\n",
            "9\n"
          ]
        }
      ]
    },
    {
      "cell_type": "code",
      "source": [
        "for i in range(2,10,2):\n",
        "  print(i)\n",
        "\n",
        "# range(initilization,upto,increment or update like)"
      ],
      "metadata": {
        "colab": {
          "base_uri": "https://localhost:8080/"
        },
        "id": "HXXrKkWCtyCE",
        "outputId": "431fb031-3561-4f8f-bc52-27ce7734e5b6"
      },
      "execution_count": null,
      "outputs": [
        {
          "output_type": "stream",
          "name": "stdout",
          "text": [
            "2\n",
            "4\n",
            "6\n",
            "8\n"
          ]
        }
      ]
    },
    {
      "cell_type": "code",
      "source": [
        "#Fibonnacci serries\n",
        "x = int(input(\"Enter number\"))\n",
        "i =1\n",
        "n1 = 0\n",
        "n2 = 1\n",
        "for i in range(x):\n",
        "  nth = n1+n2\n",
        "  print(n1,end=\" \")\n",
        "  n1 =n2\n",
        "  n2 =nth\n",
        " "
      ],
      "metadata": {
        "colab": {
          "base_uri": "https://localhost:8080/"
        },
        "id": "mvbWBT4dvJ0H",
        "outputId": "dd6c1b58-288e-420a-b911-ca778e417f66"
      },
      "execution_count": null,
      "outputs": [
        {
          "output_type": "stream",
          "name": "stdout",
          "text": [
            "Enter number10\n",
            "0 1 1 2 3 5 8 13 21 34 "
          ]
        }
      ]
    },
    {
      "cell_type": "code",
      "source": [
        "#Fibonnacci serries\n",
        "x = int(input(\"Enter number\"))\n",
        "i =1\n",
        "n1 = 0\n",
        "n2 = 1\n",
        "nth =0;\n",
        "while(nth <= x):\n",
        "  nth = n1+n2\n",
        "  print(n1,end=\" \")\n",
        "  n1 =n2\n",
        "  n2 =nth\n",
        " "
      ],
      "metadata": {
        "colab": {
          "base_uri": "https://localhost:8080/"
        },
        "id": "A8iGAEM1zHUt",
        "outputId": "65bcde1b-868a-46e8-cd24-6f8c231da68a"
      },
      "execution_count": null,
      "outputs": [
        {
          "output_type": "stream",
          "name": "stdout",
          "text": [
            "Enter number10\n",
            "0 1 1 2 3 5 "
          ]
        }
      ]
    },
    {
      "cell_type": "code",
      "source": [
        ""
      ],
      "metadata": {
        "id": "VcnuqAzI2UIB"
      },
      "execution_count": null,
      "outputs": []
    },
    {
      "cell_type": "code",
      "source": [
        "#Find the factorial\n",
        "num = int(input(\"Enter the number\"))\n",
        "fact=1;\n",
        "for i in range(1,num+1):\n",
        "  fact = fact*i\n",
        "print(fact)"
      ],
      "metadata": {
        "colab": {
          "base_uri": "https://localhost:8080/"
        },
        "id": "C_e5CMzk0Yjo",
        "outputId": "2bdf6cfc-14a9-488d-ac1d-172ef80a55cd"
      },
      "execution_count": null,
      "outputs": [
        {
          "output_type": "stream",
          "name": "stdout",
          "text": [
            "Enter the number4\n",
            "24\n"
          ]
        }
      ]
    },
    {
      "cell_type": "code",
      "source": [
        "#check if a given number is \"prime\"\n",
        "# x = int(input(\"Enter a number \"))\n",
        "# flag = 0\n",
        "# n = (x)//2\n",
        "# if(x == 0 or x ==1):\n",
        "#   flag =1\n",
        "# for i in range(2,n+1):\n",
        "#   if(x % i == 0):\n",
        "#     flag =1\n",
        "#     break\n",
        "# if(flag==0):\n",
        "#   print(\"number is prime\",x)\n",
        "# else:\n",
        "#   print(x,\"number is not prime\")\n",
        "\n",
        "#2 generate all prime numbers within a given range\n",
        "# lnum = 2 hnum =30 o/p 2,3,5,,7,11..\n",
        "# x = int(input(\"Enter fist number \"))\n",
        "# y = int(input(\"Enter second number \"))\n",
        "# if(x<y):\n",
        "#  flag = 0\n",
        "#  n = (x+1)//2\n",
        "#  if(x == 0 or x ==1):\n",
        "#    flag =1\n",
        "#  for i in range(2,n+1):\n",
        "#    if(x % i == 0):\n",
        "#      flag =1\n",
        "#      break\n",
        "#  if(flag==0):\n",
        "#    for i in range(2,y+1):\n",
        "#      print(\"number is prime\",i)\n",
        "\n",
        "#3.generate the next prime number\n",
        "#num = 7; o/p = 11\n",
        "#num = 8 ; o/p = 11\n",
        "x = int(input(\"Enter a number \"))\n",
        "flag = False\n",
        "n=(x+1)//2\n",
        "while(flag == False):\n",
        "   x +=1\n",
        "   flag == True\n",
        "   for i in range(2,n):\n",
        "    if(x % i == 0):\n",
        "      flag =True\n",
        "      break\n",
        "if(flag==False):  \n",
        "     print(\"number is prime\",x)\n",
        "    \n",
        "\n"
      ],
      "metadata": {
        "colab": {
          "base_uri": "https://localhost:8080/"
        },
        "id": "Vhb3r5OG3L9_",
        "outputId": "7806c5b9-1389-49e0-a43d-3a1772854e4a"
      },
      "execution_count": null,
      "outputs": [
        {
          "name": "stdout",
          "output_type": "stream",
          "text": [
            "Enter a number 7\n"
          ]
        }
      ]
    },
    {
      "cell_type": "code",
      "source": [
        "# how to do swap 2 numbers\n",
        "x=8\n",
        "y=9\n",
        "\n",
        "print(\"x=\",x,\" y=\",y)\n",
        "(x,y) = (y,x)\n",
        "print(\"x=\",x,\" y=\",y)"
      ],
      "metadata": {
        "colab": {
          "base_uri": "https://localhost:8080/"
        },
        "id": "v-Aen2waSFUW",
        "outputId": "9436fa3d-b3e1-42c9-afc8-c123ad9e4245"
      },
      "execution_count": null,
      "outputs": [
        {
          "output_type": "stream",
          "name": "stdout",
          "text": [
            "x= 8  y= 9\n",
            "x= 9  y= 8\n"
          ]
        }
      ]
    },
    {
      "cell_type": "code",
      "source": [
        "# what are the methods string\n",
        "dir(str) "
      ],
      "metadata": {
        "colab": {
          "base_uri": "https://localhost:8080/"
        },
        "id": "PQK7Ma81S3WE",
        "outputId": "f80adf2e-ca0c-4243-ab74-9cbb19b73866"
      },
      "execution_count": null,
      "outputs": [
        {
          "output_type": "execute_result",
          "data": {
            "text/plain": [
              "['__add__',\n",
              " '__class__',\n",
              " '__contains__',\n",
              " '__delattr__',\n",
              " '__dir__',\n",
              " '__doc__',\n",
              " '__eq__',\n",
              " '__format__',\n",
              " '__ge__',\n",
              " '__getattribute__',\n",
              " '__getitem__',\n",
              " '__getnewargs__',\n",
              " '__gt__',\n",
              " '__hash__',\n",
              " '__init__',\n",
              " '__init_subclass__',\n",
              " '__iter__',\n",
              " '__le__',\n",
              " '__len__',\n",
              " '__lt__',\n",
              " '__mod__',\n",
              " '__mul__',\n",
              " '__ne__',\n",
              " '__new__',\n",
              " '__reduce__',\n",
              " '__reduce_ex__',\n",
              " '__repr__',\n",
              " '__rmod__',\n",
              " '__rmul__',\n",
              " '__setattr__',\n",
              " '__sizeof__',\n",
              " '__str__',\n",
              " '__subclasshook__',\n",
              " 'capitalize',\n",
              " 'casefold',\n",
              " 'center',\n",
              " 'count',\n",
              " 'encode',\n",
              " 'endswith',\n",
              " 'expandtabs',\n",
              " 'find',\n",
              " 'format',\n",
              " 'format_map',\n",
              " 'index',\n",
              " 'isalnum',\n",
              " 'isalpha',\n",
              " 'isascii',\n",
              " 'isdecimal',\n",
              " 'isdigit',\n",
              " 'isidentifier',\n",
              " 'islower',\n",
              " 'isnumeric',\n",
              " 'isprintable',\n",
              " 'isspace',\n",
              " 'istitle',\n",
              " 'isupper',\n",
              " 'join',\n",
              " 'ljust',\n",
              " 'lower',\n",
              " 'lstrip',\n",
              " 'maketrans',\n",
              " 'partition',\n",
              " 'replace',\n",
              " 'rfind',\n",
              " 'rindex',\n",
              " 'rjust',\n",
              " 'rpartition',\n",
              " 'rsplit',\n",
              " 'rstrip',\n",
              " 'split',\n",
              " 'splitlines',\n",
              " 'startswith',\n",
              " 'strip',\n",
              " 'swapcase',\n",
              " 'title',\n",
              " 'translate',\n",
              " 'upper',\n",
              " 'zfill']"
            ]
          },
          "metadata": {},
          "execution_count": 80
        }
      ]
    },
    {
      "cell_type": "code",
      "source": [
        "fruit =\"orange\"\n",
        "fruit.upper()"
      ],
      "metadata": {
        "colab": {
          "base_uri": "https://localhost:8080/",
          "height": 35
        },
        "id": "nUxoEbp3TOcS",
        "outputId": "89ec19cd-e484-4c43-d456-b203a7623cd6"
      },
      "execution_count": null,
      "outputs": [
        {
          "output_type": "execute_result",
          "data": {
            "text/plain": [
              "'ORANGE'"
            ],
            "application/vnd.google.colaboratory.intrinsic+json": {
              "type": "string"
            }
          },
          "metadata": {},
          "execution_count": 82
        }
      ]
    },
    {
      "cell_type": "code",
      "source": [
        "fruit =\"orange\"\n",
        "fruit.title()"
      ],
      "metadata": {
        "colab": {
          "base_uri": "https://localhost:8080/",
          "height": 35
        },
        "id": "a9y_vToYTdSx",
        "outputId": "a90a2043-c9c4-4eb3-a657-7568c036a146"
      },
      "execution_count": null,
      "outputs": [
        {
          "output_type": "execute_result",
          "data": {
            "text/plain": [
              "'Orange'"
            ],
            "application/vnd.google.colaboratory.intrinsic+json": {
              "type": "string"
            }
          },
          "metadata": {},
          "execution_count": 90
        }
      ]
    },
    {
      "cell_type": "code",
      "source": [
        "fruit =\"orange000\"\n",
        "fruit.count(\"0\")"
      ],
      "metadata": {
        "colab": {
          "base_uri": "https://localhost:8080/"
        },
        "id": "tzCvrMnmUv4l",
        "outputId": "41bdee2c-458e-4534-fa67-f63809d9f594"
      },
      "execution_count": null,
      "outputs": [
        {
          "output_type": "execute_result",
          "data": {
            "text/plain": [
              "3"
            ]
          },
          "metadata": {},
          "execution_count": 91
        }
      ]
    },
    {
      "cell_type": "code",
      "source": [
        "help(fruit.count)"
      ],
      "metadata": {
        "colab": {
          "base_uri": "https://localhost:8080/"
        },
        "id": "ytWPIUfbVGFs",
        "outputId": "d10bbb91-c74a-4d3e-b036-b8c0964961d7"
      },
      "execution_count": null,
      "outputs": [
        {
          "output_type": "stream",
          "name": "stdout",
          "text": [
            "Help on built-in function count:\n",
            "\n",
            "count(...) method of builtins.str instance\n",
            "    S.count(sub[, start[, end]]) -> int\n",
            "    \n",
            "    Return the number of non-overlapping occurrences of substring sub in\n",
            "    string S[start:end].  Optional arguments start and end are\n",
            "    interpreted as in slice notation.\n",
            "\n"
          ]
        }
      ]
    },
    {
      "cell_type": "code",
      "source": [
        "#slicing\n",
        "#extracting a substring\n",
        "fruit =\"orange000\"\n",
        "len(fruit)"
      ],
      "metadata": {
        "colab": {
          "base_uri": "https://localhost:8080/"
        },
        "id": "bncmoCVEVMH7",
        "outputId": "e35d6c74-c51e-4209-9470-5d546a271133"
      },
      "execution_count": null,
      "outputs": [
        {
          "output_type": "execute_result",
          "data": {
            "text/plain": [
              "9"
            ]
          },
          "metadata": {},
          "execution_count": 93
        }
      ]
    },
    {
      "cell_type": "code",
      "source": [
        "#access every character of the string\n",
        "alpha=\"eresgrsfgsdg\"\n",
        "for i in alpha:\n",
        " print(i,\" \")"
      ],
      "metadata": {
        "colab": {
          "base_uri": "https://localhost:8080/"
        },
        "id": "ODpcN4nzWCF2",
        "outputId": "ed568857-8d78-417b-9684-50717f5e4003"
      },
      "execution_count": null,
      "outputs": [
        {
          "output_type": "stream",
          "name": "stdout",
          "text": [
            "e  \n",
            "r  \n",
            "e  \n",
            "s  \n",
            "g  \n",
            "r  \n",
            "s  \n",
            "f  \n",
            "g  \n",
            "s  \n",
            "d  \n",
            "g  \n"
          ]
        }
      ]
    },
    {
      "cell_type": "code",
      "source": [
        "#Repeate operator each character multiplied with 3 and print 3 times\n",
        "alpha=\"eresgrsfgsdg\"\n",
        "for i in alpha:\n",
        " print(i*3)"
      ],
      "metadata": {
        "colab": {
          "base_uri": "https://localhost:8080/"
        },
        "id": "-r3xCacLWloa",
        "outputId": "23d50c5e-2a53-43fc-8f05-4d2c10fb7ac3"
      },
      "execution_count": null,
      "outputs": [
        {
          "output_type": "stream",
          "name": "stdout",
          "text": [
            "eee\n",
            "rrr\n",
            "eee\n",
            "sss\n",
            "ggg\n",
            "rrr\n",
            "sss\n",
            "fff\n",
            "ggg\n",
            "sss\n",
            "ddd\n",
            "ggg\n"
          ]
        }
      ]
    },
    {
      "cell_type": "code",
      "source": [
        "#Range of characters starting index and stop index\n",
        "alpha=\"eresgrsfgsdg\"\n",
        "alpha[0:5]"
      ],
      "metadata": {
        "colab": {
          "base_uri": "https://localhost:8080/",
          "height": 35
        },
        "id": "-aedYonNXQY5",
        "outputId": "79b1d536-4cc6-4730-c665-ee81e58ac416"
      },
      "execution_count": null,
      "outputs": [
        {
          "output_type": "execute_result",
          "data": {
            "text/plain": [
              "'eresg'"
            ],
            "application/vnd.google.colaboratory.intrinsic+json": {
              "type": "string"
            }
          },
          "metadata": {},
          "execution_count": 99
        }
      ]
    },
    {
      "cell_type": "code",
      "source": [
        "#print first character\n",
        "alpha=\"eresgrsfgsdg\"\n",
        "print(alpha[0])"
      ],
      "metadata": {
        "colab": {
          "base_uri": "https://localhost:8080/"
        },
        "id": "7K12MPmeVlfz",
        "outputId": "924da6a3-4706-482b-b729-a97201d094ee"
      },
      "execution_count": null,
      "outputs": [
        {
          "output_type": "stream",
          "name": "stdout",
          "text": [
            "e\n"
          ]
        }
      ]
    },
    {
      "cell_type": "code",
      "source": [
        "#last cahracter\n",
        "alpha=\"eresgrsfgsdg\"\n",
        "alpha[-1]"
      ],
      "metadata": {
        "colab": {
          "base_uri": "https://localhost:8080/",
          "height": 35
        },
        "id": "fJOjL5mRW0RL",
        "outputId": "f52381b6-7879-495c-cd80-187b6c4fbe1d"
      },
      "execution_count": null,
      "outputs": [
        {
          "output_type": "execute_result",
          "data": {
            "text/plain": [
              "'g'"
            ],
            "application/vnd.google.colaboratory.intrinsic+json": {
              "type": "string"
            }
          },
          "metadata": {},
          "execution_count": 115
        }
      ]
    },
    {
      "cell_type": "code",
      "source": [
        "alpha=\"eresgrsfgsdg\"\n",
        "alpha[3:9:2]"
      ],
      "metadata": {
        "colab": {
          "base_uri": "https://localhost:8080/",
          "height": 35
        },
        "id": "VADYCItuXjIt",
        "outputId": "14a87e75-6908-4d1b-a782-ce0b3bf449ff"
      },
      "execution_count": null,
      "outputs": [
        {
          "output_type": "execute_result",
          "data": {
            "text/plain": [
              "'srf'"
            ],
            "application/vnd.google.colaboratory.intrinsic+json": {
              "type": "string"
            }
          },
          "metadata": {},
          "execution_count": 116
        }
      ]
    },
    {
      "cell_type": "code",
      "source": [
        "alpha=\"eresgrsfgsdg\"\n",
        "alpha[13:5:-1]\n",
        " "
      ],
      "metadata": {
        "colab": {
          "base_uri": "https://localhost:8080/",
          "height": 35
        },
        "id": "PXuZtQeyZIek",
        "outputId": "6a9ab9fb-7e10-4c26-b4ab-467901870b35"
      },
      "execution_count": null,
      "outputs": [
        {
          "output_type": "execute_result",
          "data": {
            "text/plain": [
              "'gdsgfs'"
            ],
            "application/vnd.google.colaboratory.intrinsic+json": {
              "type": "string"
            }
          },
          "metadata": {},
          "execution_count": 117
        }
      ]
    },
    {
      "cell_type": "code",
      "source": [
        "alpha=\"eresgrsfgsdg\"\n",
        "alpha[5:]"
      ],
      "metadata": {
        "colab": {
          "base_uri": "https://localhost:8080/",
          "height": 35
        },
        "id": "oTRFh1tZYu4U",
        "outputId": "8c11a590-4278-4ea8-b17b-894c49a05ab0"
      },
      "execution_count": null,
      "outputs": [
        {
          "output_type": "execute_result",
          "data": {
            "text/plain": [
              "'rsfgsdg'"
            ],
            "application/vnd.google.colaboratory.intrinsic+json": {
              "type": "string"
            }
          },
          "metadata": {},
          "execution_count": 106
        }
      ]
    },
    {
      "cell_type": "code",
      "source": [
        "alpha=\"eresgrsfgsdg\"\n",
        "alpha[-1:-5:-1]\n",
        " "
      ],
      "metadata": {
        "colab": {
          "base_uri": "https://localhost:8080/",
          "height": 35
        },
        "id": "ZSR7UHZlZug0",
        "outputId": "7fd98c8c-862f-4bf2-bc74-75179b37ccca"
      },
      "execution_count": null,
      "outputs": [
        {
          "output_type": "execute_result",
          "data": {
            "text/plain": [
              "'gdsg'"
            ],
            "application/vnd.google.colaboratory.intrinsic+json": {
              "type": "string"
            }
          },
          "metadata": {},
          "execution_count": 107
        }
      ]
    },
    {
      "cell_type": "code",
      "source": [
        "alpha=\"eresgrsfgsdg\"\n",
        "alpha[::-1]\n",
        " "
      ],
      "metadata": {
        "colab": {
          "base_uri": "https://localhost:8080/",
          "height": 35
        },
        "id": "Zjx_wvkgaNLu",
        "outputId": "cd575683-9674-4343-ffb1-f46dc7efb370"
      },
      "execution_count": null,
      "outputs": [
        {
          "output_type": "execute_result",
          "data": {
            "text/plain": [
              "'gdsgfsrgsere'"
            ],
            "application/vnd.google.colaboratory.intrinsic+json": {
              "type": "string"
            }
          },
          "metadata": {},
          "execution_count": 118
        }
      ]
    },
    {
      "cell_type": "code",
      "source": [
        "alpha=\"eresgrsfgsdg\"\n",
        "alpha[0:29]"
      ],
      "metadata": {
        "colab": {
          "base_uri": "https://localhost:8080/",
          "height": 35
        },
        "id": "n-Qp7l5mY4LW",
        "outputId": "e44c1019-ff40-43d0-c3e6-a5406f4faf1e"
      },
      "execution_count": null,
      "outputs": [
        {
          "output_type": "execute_result",
          "data": {
            "text/plain": [
              "'eresgrsfgsdg'"
            ],
            "application/vnd.google.colaboratory.intrinsic+json": {
              "type": "string"
            }
          },
          "metadata": {},
          "execution_count": 102
        }
      ]
    },
    {
      "cell_type": "code",
      "source": [
        "alpha=\"eresgrsfgsdg\"\n",
        "alpha.startswith(\"e\")"
      ],
      "metadata": {
        "colab": {
          "base_uri": "https://localhost:8080/"
        },
        "id": "-sS91ND8fKnH",
        "outputId": "d3f0cf83-fe3f-4d36-f885-184045e3e493"
      },
      "execution_count": null,
      "outputs": [
        {
          "output_type": "execute_result",
          "data": {
            "text/plain": [
              "True"
            ]
          },
          "metadata": {},
          "execution_count": 120
        }
      ]
    },
    {
      "cell_type": "code",
      "source": [
        ""
      ],
      "metadata": {
        "id": "HTT842jDkAPx"
      },
      "execution_count": null,
      "outputs": []
    },
    {
      "cell_type": "code",
      "source": [
        "sent=\"#money#finance#india#inflation\"\n",
        "neObj=sent.split(\"#\")\n",
        "len(neObj)\n",
        "#print(sent.split(\"#\"))\n",
        "#len(sent)\n"
      ],
      "metadata": {
        "colab": {
          "base_uri": "https://localhost:8080/"
        },
        "id": "ggkC1qfafaCB",
        "outputId": "0ad4cfba-8553-4e2b-8f28-426ebf73645a"
      },
      "execution_count": null,
      "outputs": [
        {
          "output_type": "execute_result",
          "data": {
            "text/plain": [
              "5"
            ]
          },
          "metadata": {},
          "execution_count": 4
        }
      ]
    },
    {
      "cell_type": "code",
      "source": [
        "name = ['Rahul','is','a','good','boy']\n",
        "sent = ' '.join(name)\n",
        "print(sent + \".yes , he is\")"
      ],
      "metadata": {
        "colab": {
          "base_uri": "https://localhost:8080/"
        },
        "id": "zqU_ZoZ1iejP",
        "outputId": "616f6b90-8f2f-4ad8-e19f-00929db14b1e"
      },
      "execution_count": null,
      "outputs": [
        {
          "output_type": "stream",
          "name": "stdout",
          "text": [
            "Rahul is a good boy.yes , he is\n"
          ]
        }
      ]
    },
    {
      "cell_type": "code",
      "source": [
        "name = ['Rahul','is','a','good','boy']\n",
        "print(str(name))"
      ],
      "metadata": {
        "colab": {
          "base_uri": "https://localhost:8080/"
        },
        "id": "9cuEVz5whag4",
        "outputId": "4db294f2-25b4-4a3d-9cbd-cf0005b54b64"
      },
      "execution_count": null,
      "outputs": [
        {
          "output_type": "stream",
          "name": "stdout",
          "text": [
            "['Rahul', 'is', 'a', 'good', 'boy']\n"
          ]
        }
      ]
    },
    {
      "cell_type": "code",
      "source": [
        "#find\n",
        "alpha=\"eresgrsfgsdg\"\n",
        "alpha.find('g',6)"
      ],
      "metadata": {
        "colab": {
          "base_uri": "https://localhost:8080/"
        },
        "id": "LzjLk2LzkBES",
        "outputId": "9c04d395-6642-4f02-c50e-af88904ecfea"
      },
      "execution_count": null,
      "outputs": [
        {
          "output_type": "execute_result",
          "data": {
            "text/plain": [
              "8"
            ]
          },
          "metadata": {},
          "execution_count": 141
        }
      ]
    },
    {
      "cell_type": "code",
      "source": [
        "#find chek the character present or not\n",
        "alpha=\"eresgrsfgsdg\"\n",
        "'g' in alpha"
      ],
      "metadata": {
        "colab": {
          "base_uri": "https://localhost:8080/"
        },
        "id": "9n3XdBFblqUD",
        "outputId": "d1c84049-23cd-4c9a-f658-77c3652ca0b2"
      },
      "execution_count": null,
      "outputs": [
        {
          "output_type": "execute_result",
          "data": {
            "text/plain": [
              "True"
            ]
          },
          "metadata": {},
          "execution_count": 142
        }
      ]
    },
    {
      "cell_type": "code",
      "source": [
        "#list is like arrya but with a diff - use square bracket\n",
        "#heterogeneouts\n",
        "# array elements of same datatypes ; whereas list can be a diff datatypes\n",
        "#lists are mutuable:\n",
        "\n",
        "list1 =[2,5.6,'Amit',True]\n",
        "list1\n",
        "type(list1)"
      ],
      "metadata": {
        "colab": {
          "base_uri": "https://localhost:8080/"
        },
        "id": "tMxky2zkmBDq",
        "outputId": "70eab640-6eb8-4f90-e8d0-a06b337b3ccc"
      },
      "execution_count": null,
      "outputs": [
        {
          "output_type": "execute_result",
          "data": {
            "text/plain": [
              "list"
            ]
          },
          "metadata": {},
          "execution_count": 8
        }
      ]
    },
    {
      "cell_type": "code",
      "source": [
        "list1 =[2,5.6,'Amit',True]\n",
        "print(list1[2])"
      ],
      "metadata": {
        "colab": {
          "base_uri": "https://localhost:8080/"
        },
        "id": "NRbdrYf1mwpv",
        "outputId": "059129b4-d570-49f4-e588-03b5b2eca761"
      },
      "execution_count": null,
      "outputs": [
        {
          "output_type": "stream",
          "name": "stdout",
          "text": [
            "Amit\n"
          ]
        }
      ]
    },
    {
      "cell_type": "code",
      "source": [
        "list1 =[2,5.6,'Amit',True]\n",
        "for i in list1:\n",
        "  print(i)\n",
        "  \n"
      ],
      "metadata": {
        "colab": {
          "base_uri": "https://localhost:8080/"
        },
        "id": "l8zPHyqWnPTf",
        "outputId": "b9b11c53-5a54-465c-efb2-b21a2c1ce879"
      },
      "execution_count": null,
      "outputs": [
        {
          "output_type": "stream",
          "name": "stdout",
          "text": [
            "2\n",
            "5.6\n",
            "Amit\n",
            "True\n"
          ]
        }
      ]
    },
    {
      "cell_type": "code",
      "source": [
        "values = list(range(4,50,5))\n",
        "values"
      ],
      "metadata": {
        "colab": {
          "base_uri": "https://localhost:8080/"
        },
        "id": "TdmGhoGmnnv-",
        "outputId": "3aa19d05-73e6-4409-9109-07a87afab405"
      },
      "execution_count": null,
      "outputs": [
        {
          "output_type": "execute_result",
          "data": {
            "text/plain": [
              "[4, 9, 14, 19, 24, 29, 34, 39, 44, 49]"
            ]
          },
          "metadata": {},
          "execution_count": 148
        }
      ]
    },
    {
      "cell_type": "code",
      "source": [
        "values = list(range(4,50,5))\n",
        "values[2]=78\n",
        "values"
      ],
      "metadata": {
        "colab": {
          "base_uri": "https://localhost:8080/"
        },
        "id": "CbprGBiroskt",
        "outputId": "c7f99437-da3e-4917-82da-c114091a1b13"
      },
      "execution_count": null,
      "outputs": [
        {
          "output_type": "execute_result",
          "data": {
            "text/plain": [
              "[4, 9, 78, 19, 24, 29, 34, 39, 44, 49]"
            ]
          },
          "metadata": {},
          "execution_count": 149
        }
      ]
    },
    {
      "cell_type": "code",
      "source": [
        "str1 =\"gud mrng\"\n",
        "print(str1)\n",
        "str1 = \"gud even\"\n",
        "print(str1)"
      ],
      "metadata": {
        "colab": {
          "base_uri": "https://localhost:8080/"
        },
        "id": "f1DZtvJlpdtv",
        "outputId": "d45520e1-f45f-44af-888e-572dd551dc44"
      },
      "execution_count": null,
      "outputs": [
        {
          "output_type": "stream",
          "name": "stdout",
          "text": [
            "gud mrng\n",
            "gud even\n"
          ]
        }
      ]
    },
    {
      "cell_type": "code",
      "source": [
        "values = list(range(4,50,5))\n",
        "values[3:6:1]\n",
        " "
      ],
      "metadata": {
        "colab": {
          "base_uri": "https://localhost:8080/"
        },
        "id": "Va0YC6AoqhuJ",
        "outputId": "0b917138-b41e-4b05-be03-324a95503af2"
      },
      "execution_count": null,
      "outputs": [
        {
          "output_type": "execute_result",
          "data": {
            "text/plain": [
              "[19, 24, 29]"
            ]
          },
          "metadata": {},
          "execution_count": 156
        }
      ]
    },
    {
      "cell_type": "code",
      "source": [
        "newval =list(range(3,70,6))\n",
        "# newval[3:30:4]\n",
        "newval\n"
      ],
      "metadata": {
        "colab": {
          "base_uri": "https://localhost:8080/"
        },
        "id": "IYx7ozl0rWcK",
        "outputId": "bef16d99-b5d1-41c3-8da6-18a114f99fc7"
      },
      "execution_count": null,
      "outputs": [
        {
          "output_type": "execute_result",
          "data": {
            "text/plain": [
              "[3, 9, 15, 21, 27, 33, 39, 45, 51, 57, 63, 69]"
            ]
          },
          "metadata": {},
          "execution_count": 158
        }
      ]
    },
    {
      "cell_type": "code",
      "source": [
        "#insert, append,extend\n",
        "#pop,remove,delete elements from the list\n",
        "newval =list(range(3,70,6))\n",
        "newval.insert(5,15)\n",
        "#index and element to insert\n",
        "# newval.append('king')\n",
        "#newval.extend('king')\n",
        "newval"
      ],
      "metadata": {
        "colab": {
          "base_uri": "https://localhost:8080/"
        },
        "id": "CxMUPcL-r9GX",
        "outputId": "a8e6d44f-2a5b-4400-832f-eae54c13dffd"
      },
      "execution_count": null,
      "outputs": [
        {
          "output_type": "execute_result",
          "data": {
            "text/plain": [
              "[3, 9, 15, 21, 27, 15, 33, 39, 45, 51, 57, 63, 69]"
            ]
          },
          "metadata": {},
          "execution_count": 14
        }
      ]
    },
    {
      "cell_type": "code",
      "source": [
        "newVal =list(range(4,60,5))\n",
        "newVal.insert(5,70)\n",
        "newVal"
      ],
      "metadata": {
        "id": "wcFhGI6It7s3",
        "colab": {
          "base_uri": "https://localhost:8080/"
        },
        "outputId": "0af5925d-19be-4b0b-e400-ef5f0bf1364b"
      },
      "execution_count": null,
      "outputs": [
        {
          "output_type": "execute_result",
          "data": {
            "text/plain": [
              "[4, 9, 14, 19, 24, 70, 29, 34, 39, 44, 49, 54, 59]"
            ]
          },
          "metadata": {},
          "execution_count": 17
        }
      ]
    },
    {
      "cell_type": "code",
      "source": [
        "newVal =list(range(5,89,6))\n",
        "newVal.append(\"Amit\")\n",
        "newVal"
      ],
      "metadata": {
        "colab": {
          "base_uri": "https://localhost:8080/"
        },
        "id": "xjA6lOOtMhee",
        "outputId": "da3306de-fb67-44c5-c878-dcb87489fab7"
      },
      "execution_count": null,
      "outputs": [
        {
          "output_type": "execute_result",
          "data": {
            "text/plain": [
              "[5, 11, 17, 23, 29, 35, 41, 47, 53, 59, 65, 71, 77, 83, 'Amit']"
            ]
          },
          "metadata": {},
          "execution_count": 20
        }
      ]
    },
    {
      "cell_type": "code",
      "source": [
        ""
      ],
      "metadata": {
        "id": "o4LFQg4zOW4x"
      },
      "execution_count": null,
      "outputs": []
    },
    {
      "cell_type": "code",
      "source": [
        "newUser =list(range(3,60,6))\n",
        "newUser.extend('Amit')\n",
        "newUser"
      ],
      "metadata": {
        "colab": {
          "base_uri": "https://localhost:8080/"
        },
        "id": "opJx5dRHN5nJ",
        "outputId": "97196e16-551d-471f-a01d-3d3fb1898883"
      },
      "execution_count": null,
      "outputs": [
        {
          "output_type": "execute_result",
          "data": {
            "text/plain": [
              "[3, 9, 15, 21, 27, 33, 39, 45, 51, 57, 'A', 'm', 'i', 't']"
            ]
          },
          "metadata": {},
          "execution_count": 23
        }
      ]
    },
    {
      "cell_type": "code",
      "source": [
        "newval =list(range(3,70,6))\n",
        "newval.pop(3)\n",
        "newval"
      ],
      "metadata": {
        "colab": {
          "base_uri": "https://localhost:8080/"
        },
        "id": "iIku5nV_s8Qw",
        "outputId": "a8895d1b-b5d2-4075-9c1a-c20ccf77dfe3"
      },
      "execution_count": null,
      "outputs": [
        {
          "output_type": "execute_result",
          "data": {
            "text/plain": [
              "[3, 9, 15, 27, 33, 39, 45, 51, 57, 63, 69]"
            ]
          },
          "metadata": {},
          "execution_count": 28
        }
      ]
    },
    {
      "cell_type": "code",
      "source": [
        "newval =list(range(3,70,6))\n",
        "newval.remove(3)\n",
        "#remove function is removing the element while pop function is removing the indexes\n",
        "newval"
      ],
      "metadata": {
        "colab": {
          "base_uri": "https://localhost:8080/"
        },
        "id": "JXR_2HPKtp0E",
        "outputId": "29dd62e0-179a-410d-b0fd-b1357ae82264"
      },
      "execution_count": null,
      "outputs": [
        {
          "output_type": "execute_result",
          "data": {
            "text/plain": [
              "[9, 15, 21, 27, 33, 39, 45, 51, 57, 63, 69]"
            ]
          },
          "metadata": {},
          "execution_count": 29
        }
      ]
    },
    {
      "cell_type": "code",
      "source": [
        "newval =list(range(3,70,6))\n",
        "#del newval[3:5]\n",
        "newval"
      ],
      "metadata": {
        "id": "UM3yffC1t8bz",
        "colab": {
          "base_uri": "https://localhost:8080/"
        },
        "outputId": "657c5a1c-87ac-4810-8f19-a83e76291e3a"
      },
      "execution_count": null,
      "outputs": [
        {
          "output_type": "execute_result",
          "data": {
            "text/plain": [
              "[3, 9, 15, 21, 27, 33, 39, 45, 51, 57, 63, 69]"
            ]
          },
          "metadata": {},
          "execution_count": 35
        }
      ]
    },
    {
      "cell_type": "code",
      "source": [
        "v1 = [5,6,3,7,4]\n",
        "v2 = v1.copy()\n",
        "print(v1)\n",
        "print(v2)"
      ],
      "metadata": {
        "colab": {
          "base_uri": "https://localhost:8080/"
        },
        "id": "qsT2C-dIuQIU",
        "outputId": "8468173f-d601-426e-ed17-b7fd43645bd8"
      },
      "execution_count": null,
      "outputs": [
        {
          "output_type": "stream",
          "name": "stdout",
          "text": [
            "[5, 6, 3, 7, 4]\n",
            "[5, 6, 3, 7, 4]\n"
          ]
        }
      ]
    },
    {
      "cell_type": "code",
      "source": [
        "str1='sdjhf#$#$@#$sdf@#$#@'\n",
        "neObj=str1.split(\"#\")\n",
        "neObj\n",
        "schar =[\"#\",\"$\",\"@\"]\n",
        "for i in schar:\n",
        "   str1 = str1.replace(i,'')\n",
        "print(str1)\n",
        " "
      ],
      "metadata": {
        "colab": {
          "base_uri": "https://localhost:8080/"
        },
        "id": "2V4bGiGiZpeU",
        "outputId": "b7589a55-55a1-4a7e-c97c-b854ef635055"
      },
      "execution_count": null,
      "outputs": [
        {
          "output_type": "stream",
          "name": "stdout",
          "text": [
            "sdjhfsdf\n"
          ]
        }
      ]
    }
  ]
}