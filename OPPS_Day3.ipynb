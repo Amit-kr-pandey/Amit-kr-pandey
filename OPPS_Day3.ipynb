{
  "nbformat": 4,
  "nbformat_minor": 0,
  "metadata": {
    "colab": {
      "name": "OPPS_Day3.ipynb",
      "provenance": [],
      "collapsed_sections": [],
      "authorship_tag": "ABX9TyMuAVpv6eWawUx77ni2y6EA",
      "include_colab_link": true
    },
    "kernelspec": {
      "name": "python3",
      "display_name": "Python 3"
    },
    "language_info": {
      "name": "python"
    }
  },
  "cells": [
    {
      "cell_type": "markdown",
      "metadata": {
        "id": "view-in-github",
        "colab_type": "text"
      },
      "source": [
        "<a href=\"https://colab.research.google.com/github/Amit-kr-pandey/Amit-kr-pandey/blob/main/OPPS_Day3.ipynb\" target=\"_parent\"><img src=\"https://colab.research.google.com/assets/colab-badge.svg\" alt=\"Open In Colab\"/></a>"
      ]
    },
    {
      "cell_type": "markdown",
      "source": [
        "# OPPS CONCEPT\n"
      ],
      "metadata": {
        "id": "MQKjX34vgcXh"
      }
    },
    {
      "cell_type": "code",
      "source": [
        "#1. lambdas are functions\n",
        "#2. anonymous functions - lambda x,y,z:x+y+z; throw away functions\n",
        "#3. lambdas are predominantly used with maps ,filter,reduce,list comprehension\n",
        "#4. donot store so faster"
      ],
      "metadata": {
        "id": "nxQqixz8gnAM"
      },
      "execution_count": null,
      "outputs": []
    },
    {
      "cell_type": "markdown",
      "source": [
        "#class ,object\n",
        "#class variables,objects vaiablels\n",
        "#constructors\n",
        "#encapsulation,inheritence,polymorphism,abstracton,abstractionn,aggregation,compostion\n",
        "\n"
      ],
      "metadata": {
        "id": "xKsLnmlHispp"
      }
    },
    {
      "cell_type": "code",
      "source": [
        "class Robot:\n",
        "  pass\n",
        "rob = Robot()\n",
        "print(type(rob))"
      ],
      "metadata": {
        "colab": {
          "base_uri": "https://localhost:8080/"
        },
        "id": "lNQ5aWNoixb2",
        "outputId": "305af849-fec4-4358-f6af-c0f868dc3575"
      },
      "execution_count": null,
      "outputs": [
        {
          "output_type": "stream",
          "name": "stdout",
          "text": [
            "<class '__main__.Robot'>\n"
          ]
        }
      ]
    },
    {
      "cell_type": "code",
      "source": [
        "#create constructor and vaiable and instance\n",
        "class Robot:\n",
        "   def __init__(self,n,c):\n",
        "     self.name = n\n",
        "     self.color = c\n",
        "\n",
        "r1 =Robot(\"Mickey\",\"Black\")\n",
        "print(r1.color,\" \",r1.name)"
      ],
      "metadata": {
        "colab": {
          "base_uri": "https://localhost:8080/"
        },
        "id": "oG7pe39jhj35",
        "outputId": "2cb81d11-a076-47d3-95c8-b601c5ac3604"
      },
      "execution_count": null,
      "outputs": [
        {
          "output_type": "stream",
          "name": "stdout",
          "text": [
            "Black   Mickey\n"
          ]
        }
      ]
    },
    {
      "cell_type": "code",
      "source": [
        "#write a method intro(self) - \"Hello I am Mickey\";\"I am Black in color\"\n",
        "class Robot:\n",
        "  def __init__(self,n,c):  #instance Variable\n",
        "    self.name = n\n",
        "    self.color =c\n",
        "\n",
        "  def intro(self):\n",
        "    print(\"Hello I am \",self.name,\"I am \",self.color, \"in color\")\n",
        "\n",
        "r2 =Robot(\"Mickey\",\"Black\")\n",
        "r2.intro()"
      ],
      "metadata": {
        "colab": {
          "base_uri": "https://localhost:8080/"
        },
        "id": "9ASBJTLlkT6O",
        "outputId": "ec134833-8b94-4910-da8f-ca96ec64ccbc"
      },
      "execution_count": null,
      "outputs": [
        {
          "output_type": "stream",
          "name": "stdout",
          "text": [
            "Hello I am  Mickey I am  Black in color\n"
          ]
        }
      ]
    },
    {
      "cell_type": "code",
      "source": [
        "class Robot:\n",
        "  company = \"Docomo\" #class variable\n",
        "  def __init__(self,n,c):\n",
        "    self.name = n\n",
        "    self.color =c\n",
        "\n",
        "  def intro(self):\n",
        "    print(\"Hello I am \",self.name,\"I am \",self.color, \"in color\")\n",
        "\n",
        "r2 = Robot(\"Mickey\",\"Black\")\n",
        "r2.company"
      ],
      "metadata": {
        "colab": {
          "base_uri": "https://localhost:8080/",
          "height": 35
        },
        "id": "TguRSaODnig0",
        "outputId": "5db58100-ed7b-42e2-eda7-f66223a15430"
      },
      "execution_count": null,
      "outputs": [
        {
          "output_type": "execute_result",
          "data": {
            "text/plain": [
              "'Docomo'"
            ],
            "application/vnd.google.colaboratory.intrinsic+json": {
              "type": "string"
            }
          },
          "metadata": {},
          "execution_count": 7
        }
      ]
    },
    {
      "cell_type": "code",
      "source": [
        "#Multiple constructors in a class\n",
        "class Robot:\n",
        "  company = \"Docomo\" #class variable\n",
        "  def __init__(self,n=\"RobName\",c=\"White\"):\n",
        "    self.name = n\n",
        "    self.color = c\n",
        "  \n",
        "  # def __init__(self): // in python  cannot have two method with same name \n",
        "  #even signature r different\n",
        "  #   pass\n",
        "\n",
        "  def intro(self):\n",
        "    print(\"Hello I am \",self.name,\"I am \",self.color, \"in color\")\n",
        "    print(\"company is = \",self.company)\n",
        "\n",
        "r2 = Robot(\"Doora\")\n",
        "r2.intro()"
      ],
      "metadata": {
        "colab": {
          "base_uri": "https://localhost:8080/"
        },
        "id": "_lbNOQluoPhH",
        "outputId": "15b634a7-e1cb-452a-8eaa-5a650658ba20"
      },
      "execution_count": null,
      "outputs": [
        {
          "output_type": "stream",
          "name": "stdout",
          "text": [
            "Hello I am  Doora I am  White in color\n",
            "company is =  Docomo\n"
          ]
        }
      ]
    },
    {
      "cell_type": "code",
      "source": [
        "#public , private, protected\n",
        "#by default = public\n",
        "\n",
        "class Car:\n",
        "  def __init__(self,seat,speed,color):\n",
        "    self.seat = seat       #public variable\n",
        "    self._speed = speed   #private variable with underscore\n",
        "    self.__color= color    #strictly private variable with double-underscore\n",
        "\n",
        "maruti = Car(4,130,\"Red\")\n",
        "maruti.seat\n",
        "maruti._speed\n",
        "#maruti.__color // cannot access bcs it is private\n"
      ],
      "metadata": {
        "colab": {
          "base_uri": "https://localhost:8080/",
          "height": 200
        },
        "id": "rzePKaMwuiXx",
        "outputId": "8df75904-1abe-4bc4-9c7d-3a6051e55b28"
      },
      "execution_count": null,
      "outputs": [
        {
          "output_type": "error",
          "ename": "AttributeError",
          "evalue": "ignored",
          "traceback": [
            "\u001b[0;31m---------------------------------------------------------------------------\u001b[0m",
            "\u001b[0;31mAttributeError\u001b[0m                            Traceback (most recent call last)",
            "\u001b[0;32m<ipython-input-22-84edc3d45158>\u001b[0m in \u001b[0;36m<module>\u001b[0;34m()\u001b[0m\n\u001b[1;32m     11\u001b[0m \u001b[0mmaruti\u001b[0m\u001b[0;34m.\u001b[0m\u001b[0mseat\u001b[0m\u001b[0;34m\u001b[0m\u001b[0;34m\u001b[0m\u001b[0m\n\u001b[1;32m     12\u001b[0m \u001b[0mmaruti\u001b[0m\u001b[0;34m.\u001b[0m\u001b[0m_speed\u001b[0m\u001b[0;34m\u001b[0m\u001b[0;34m\u001b[0m\u001b[0m\n\u001b[0;32m---> 13\u001b[0;31m \u001b[0mmaruti\u001b[0m\u001b[0;34m.\u001b[0m\u001b[0m__color\u001b[0m\u001b[0;34m\u001b[0m\u001b[0;34m\u001b[0m\u001b[0m\n\u001b[0m",
            "\u001b[0;31mAttributeError\u001b[0m: 'Car' object has no attribute '__color'"
          ]
        }
      ]
    },
    {
      "cell_type": "code",
      "source": [
        "#Getter and set method for speed and color\n",
        "class Car:\n",
        "  def __init__(self,s,sp,sc):\n",
        "    self.seat = s     \n",
        "    self._speed = sp   \n",
        "    self.__color= sc      \n",
        "\n",
        "    def get_seat(self):   \n",
        "        return self.seat  \n",
        "         \n",
        "    def get_speed(self):   \n",
        "        return self._speed\n",
        "    \n",
        "    def get_color(self):   \n",
        "        return self.__color\n",
        "\n",
        "    def set_seat(self, s):   \n",
        "        self.seat = s\n",
        "    \n",
        "    def set_speed(self, sp):   \n",
        "        self._speed = sp\n",
        "    \n",
        "    def set_color(self, sc):   \n",
        "        self.__color = sc\n",
        "      \n",
        "\n",
        "r3 = Car(3,60,\"red\")\n",
        " \n",
        "\n"
      ],
      "metadata": {
        "id": "iZ3qywehwnuP"
      },
      "execution_count": null,
      "outputs": []
    },
    {
      "cell_type": "code",
      "source": [
        "class Car:\n",
        "  def __init__(self,seat,s,c):\n",
        "    self.seat =seat\n",
        "    self._speed =s\n",
        "    self.__color =c\n",
        "  @property\n",
        "  def speed(self):\n",
        "    return(self._speed)\n",
        "  @property\n",
        "  def color(self):\n",
        "    return(self.__color)\n",
        "  @speed.setter\n",
        "  def speed(self,value:int):\n",
        "    self._speed = value\n",
        "  @color.setter\n",
        "  def color(self,value):\n",
        "    self.__color = value\n",
        "\n"
      ],
      "metadata": {
        "id": "Sq3GEdCe5Ghs"
      },
      "execution_count": null,
      "outputs": []
    },
    {
      "cell_type": "code",
      "source": [
        "maruti = Car(5,120,\"red\")\n",
        "print(maruti.color)\n",
        "maruti.color = \"Blue\"\n",
        "print(maruti.color)\n"
      ],
      "metadata": {
        "colab": {
          "base_uri": "https://localhost:8080/"
        },
        "id": "wcOn2-qb644k",
        "outputId": "a756d5e7-1bc5-40a8-f1a8-5ab320ce9853"
      },
      "execution_count": null,
      "outputs": [
        {
          "output_type": "stream",
          "name": "stdout",
          "text": [
            "red\n",
            "Blue\n"
          ]
        }
      ]
    },
    {
      "cell_type": "code",
      "source": [
        "class Organization:\n",
        "  def __init__(self,name,noofEmp,city):\n",
        "    self.name = name\n",
        "    self.noofEmp = noofEmp\n",
        "    self.city = city\n",
        "  def f1(self):\n",
        "    print(self.name)\n",
        "\n",
        "#child(parent)\n",
        "class School(Organization):\n",
        "  def __init__(self,name,noofEmp,city,noofstds):\n",
        "    super().__init__(name,noofEmp,city)\n",
        "    self.noofstds = noofstds\n",
        "  def f1(self):\n",
        "    print(\"School \" , self.name)"
      ],
      "metadata": {
        "id": "VJgnZKRm9NUH"
      },
      "execution_count": null,
      "outputs": []
    },
    {
      "cell_type": "code",
      "source": [
        "ppc = School(\"ppc\",30,\"Bengaluru\",100)\n",
        "ppc.name\n",
        "ppc.city"
      ],
      "metadata": {
        "colab": {
          "base_uri": "https://localhost:8080/",
          "height": 35
        },
        "id": "Db6sRNW8-iNM",
        "outputId": "7de7f4cb-cd7f-4666-c6b0-bd6f7daa2cd0"
      },
      "execution_count": null,
      "outputs": [
        {
          "output_type": "execute_result",
          "data": {
            "text/plain": [
              "'Bengaluru'"
            ],
            "application/vnd.google.colaboratory.intrinsic+json": {
              "type": "string"
            }
          },
          "metadata": {},
          "execution_count": 50
        }
      ]
    },
    {
      "cell_type": "code",
      "source": [
        "#Montessari (.........noofActivities)\n",
        "class Org:\n",
        "  def __init__(self,name,noofEmp,city):\n",
        "    self.name = name\n",
        "    self.noofEmp = noofEmp\n",
        "    self.city = city\n",
        "  def f1(self):\n",
        "    print(self.name)\n",
        "\n",
        "#child(parent)\n",
        "class Scl(Org):\n",
        "  def __init__(self,name,noofEmp,city,noofstds):\n",
        "    super().__init__(name,noofEmp,city)\n",
        "    self.noofstds = noofstds\n",
        "  def f1(self):\n",
        "    print(\"School \" , self.name)\n",
        "\n",
        "class Montessari(Org):\n",
        "  def __init__(self,name,noofActivities,city,noofEmp):\n",
        "    super().__init__(name,city,noofEmp) #super keyword is used to call the parent class \n",
        "                                        # objet inside the child class\n",
        "    self.noofActivities =noofActivities\n",
        "  def f2(self):\n",
        "    print(\"Acitvity \" , self.noofActicities)\n",
        "\n",
        "class Montess(Scl):\n",
        "  def __init__(self,name,noofEmp,city,noofActivity,noofstds):\n",
        "    super().__init__(name,noofEmp,city,noofstds)\n",
        "    self.noofActivity = noofActivity"
      ],
      "metadata": {
        "id": "vLI9c86__Edm"
      },
      "execution_count": null,
      "outputs": []
    },
    {
      "cell_type": "code",
      "source": [
        "ppc = Montess(\"ppc\",30,\"Bengaluru\",100,70)\n",
        "ppc.noofActivity"
      ],
      "metadata": {
        "colab": {
          "base_uri": "https://localhost:8080/"
        },
        "id": "6a3YuqeR7tLb",
        "outputId": "f1a3d594-bdbb-4c98-ddbe-7871a0afaf63"
      },
      "execution_count": null,
      "outputs": [
        {
          "output_type": "execute_result",
          "data": {
            "text/plain": [
              "100"
            ]
          },
          "metadata": {},
          "execution_count": 77
        }
      ]
    },
    {
      "cell_type": "code",
      "source": [
        "class Organization:\n",
        "  def __init__(self,name,noofEmp,city):\n",
        "    self.name = name\n",
        "    self.noofEmp = noofEmp\n",
        "    self.city = city\n",
        "  def f1(self):\n",
        "    print(self.name)\n",
        "\n",
        "class Carriculum():\n",
        "  def __init__(self,board):\n",
        "    self.board = board\n",
        "  def f1(self):\n",
        "    print(\"carriculum\")\n",
        "\n",
        "#child(parent)\n",
        "class School(Organization,Carriculum):\n",
        "  def __init__(self,name,noofEmp,city,noofstds,board):\n",
        "    Organization.__init__(self,name,noofEmp,city)\n",
        "    Carriculum.__init__(self,board)\n",
        "    self.noofstds = noofstds\n",
        "  def f1(self):\n",
        "    print(\"School \" , self.name)"
      ],
      "metadata": {
        "id": "EYZW_0-0F6aj"
      },
      "execution_count": null,
      "outputs": []
    },
    {
      "cell_type": "code",
      "source": [
        "ppc = School(\"ppc\",40,\"Hyderabad\",700,\"ICSE\")\n",
        "print(ppc.name)\n",
        "print(ppc.board)\n",
        "ppc.f1()\n",
        "#mro - method resoluction order = it will print the parent function which have same name with child\n",
        "print(School.__mro__)"
      ],
      "metadata": {
        "colab": {
          "base_uri": "https://localhost:8080/"
        },
        "id": "GYjnDV12Gcem",
        "outputId": "85c42874-400b-4c4c-9fb5-ef1c52436e86"
      },
      "execution_count": null,
      "outputs": [
        {
          "output_type": "stream",
          "name": "stdout",
          "text": [
            "ppc\n",
            "ICSE\n",
            "School  ppc\n",
            "(<class '__main__.School'>, <class '__main__.Organization'>, <class '__main__.Carriculum'>, <class 'object'>)\n"
          ]
        }
      ]
    },
    {
      "cell_type": "code",
      "source": [
        "# abstractmethod\n",
        "import abc\n",
        "#Abstraction\n",
        "#import Abstract base class\n",
        "from abc import abstractmethod,ABC\n",
        "\n",
        "class Shape(ABC):\n",
        "  @abstractmethod\n",
        "  def area(self):\n",
        "    pass\n",
        "  @abstractmethod\n",
        "  def perimeter(self):pass\n",
        "\n",
        "class Square(Shape):\n",
        "  def __init__(self,side):\n",
        "    self.side = side\n",
        "  def area(self):\n",
        "       return(\"The area of square with side {} is {} \".format(self.side,self.side * self.side))\n",
        "  def perimeter(self):\n",
        "    return(\"The perimeter of square with side {} is {} \".format(self.side,4*self.side))\n",
        "\n",
        "class Circle(Shape):\n",
        "  def __init__(self,radius):\n",
        "    self.radius=radius\n",
        "  def area(self):\n",
        "    return(\"The area of circle with radius {} is {} \".format(self.radius,3.14*self.radius))\n",
        "\n",
        "  def perimeter(self):\n",
        "   return(\"The perimeter of circle with radius {} is {} \".format(self.radius,2*3.14*self.radius))\n",
        "\n",
        "class Rectangle(Shape):\n",
        "  def __init__(self,height,breadth):\n",
        "    self.height = height\n",
        "    self.breadth =breadth\n",
        "\n",
        "  def area(self):\n",
        "    return(\"The area of Rectangle with height {} and breadth {} is {} \".format(self.height,self.breadth,self.breadth*self.height))\n",
        "\n",
        "  def perimeter(self):\n",
        "    return(\"The perimeeter of Rectangle with height {} and breadth {} is {} \".format(self.height,self.breadth,2*self.breadth*self.height))\n",
        "\n"
      ],
      "metadata": {
        "id": "kQUdC9-tKX2e"
      },
      "execution_count": null,
      "outputs": []
    },
    {
      "cell_type": "code",
      "source": [
        "squ = Square(7)\n",
        "print(squ.area())\n",
        "print(squ.perimeter())\n",
        "\n",
        "rect = Rectangle(3,4)\n",
        "print(rect.area())\n",
        "print(rect.perimeter())\n",
        "\n",
        "cir  =Circle(4)\n",
        "print(cir.area())\n",
        "print(cir.perimeter())"
      ],
      "metadata": {
        "colab": {
          "base_uri": "https://localhost:8080/"
        },
        "id": "kRJbbfhiNBn4",
        "outputId": "1d8f408f-0d56-4c65-f261-7982ef1f7312"
      },
      "execution_count": null,
      "outputs": [
        {
          "output_type": "stream",
          "name": "stdout",
          "text": [
            "The area of square with side 7 is 49 \n",
            "The perimeter of square with side 7 is 28 \n",
            "The area of Rectangle with height 3 and breadth 4 is 12 \n",
            "The perimeeter of Rectangle with height 3 and breadth 4 is 24 \n",
            "The area of circle with radius 4 is 12.56 \n",
            "The perimeter of circle with radius 4 is 25.12 \n"
          ]
        }
      ]
    },
    {
      "cell_type": "code",
      "source": [
        "# aggregation (has a)\n",
        "# subject object\n",
        "# student object\n",
        "# student enrols for a subject\n",
        "\n",
        "class Subject:\n",
        "  def __init__(self,name,teacher,exp):\n",
        "    self.name= name\n",
        "    self.teacher = teacher\n",
        "    self.exp = exp\n",
        "  \n",
        "  def comp_sal(self):\n",
        "    return(self.exp*10000)"
      ],
      "metadata": {
        "id": "DGvuKsgFc5vg"
      },
      "execution_count": null,
      "outputs": []
    },
    {
      "cell_type": "code",
      "source": [
        "class Student:\n",
        "  def __init__(self,name,rollno,marks,sub):\n",
        "    self.name = name\n",
        "    self.rollno = rollno\n",
        "    self.marks= marks\n",
        "    self.sub = sub\n",
        "  def compute_grade(self):\n",
        "    if(self.marks>80):\n",
        "      return('A')\n",
        "    elif(self.marks>60):\n",
        "      return('B')\n",
        "    else:\n",
        "      return('C')"
      ],
      "metadata": {
        "id": "1SG6ooxohMUj"
      },
      "execution_count": null,
      "outputs": []
    },
    {
      "cell_type": "code",
      "source": [
        "sub1 =Subject('Math',\"Dcosta\",6)\n",
        "s1=Student(\"Ram\",10,95,sub1)\n",
        "s1.sub.comp_sal()"
      ],
      "metadata": {
        "colab": {
          "base_uri": "https://localhost:8080/"
        },
        "id": "_BDRVF-lhKhB",
        "outputId": "d6619c14-1de2-48ee-b7cf-0a105251d7e3"
      },
      "execution_count": null,
      "outputs": [
        {
          "output_type": "execute_result",
          "data": {
            "text/plain": [
              "60000"
            ]
          },
          "metadata": {},
          "execution_count": 88
        }
      ]
    },
    {
      "cell_type": "code",
      "source": [
        "# Engine object\n",
        "# Tyre object \n",
        "# Car object has a engine ,tyres,steering ,gearbox\n",
        "\n",
        "class Car:\n",
        "  def __init__(self,name,engine,tyre1,tyre2,tyre3,tyre4,sterring):\n",
        "       self.name=name       \n",
        "       self.engine =engine\n",
        "       self.tyre1 =tyre1\n",
        "       self.tyre2 =tyre2\n",
        "       self.tyre3 =tyre3\n",
        "       self.tyre4 =tyre4\n",
        "       self.sterring= sterring  \n",
        "      \n",
        "  \n",
        "class Engine:\n",
        "  def __init__(self,typeengine,name):\n",
        "    self.typeengine=typeengine\n",
        "    self.name =name\n",
        "\n",
        "  def Enginename(self):\n",
        "    return (self.typeengine,self.name)\n",
        "\n",
        "class Tyres:\n",
        "  def __init__(self,tyresname,tyresize):\n",
        "    self.tyresname=tyresname\n",
        "    self.tyresize =tyresize\n",
        "\n",
        "  def tyresnameShow(self):\n",
        "    return (self.tyresname,self.tyresize)\n",
        "\n",
        "class Steering:\n",
        "  def __init__(self,steeringuse,steeringType):\n",
        "    self.steeringuse =steeringuse\n",
        "    self.steeringType = steeringType\n",
        "  \n",
        "  def steeringname(self):\n",
        "    return (self.steeringuse,self.steeringType)\n",
        "\n",
        " \n"
      ],
      "metadata": {
        "id": "3Uxft-UBipkF"
      },
      "execution_count": 133,
      "outputs": []
    },
    {
      "cell_type": "code",
      "source": [
        "\n",
        "E1= Engine(\"Mhoc\",\"marutiengne\")\n",
        "T1 = Tyres(\"MRF\",18)\n",
        "T2 = Tyres(\"Apolo\",19)\n",
        "T3 = Tyres(\"MRF1\",20)\n",
        "T4 = Tyres(\"MRF2\",15)\n",
        "S1 = Steering(\"Iron\",\"Automatic\")\n",
        "car1 =Car(\"Maruti\",E1,T1,T2,T3,T4,S1)\n",
        "\n",
        "print(car1.name)\n",
        "print(car1.engine.Enginename())\n",
        "print(car1.tyre1.tyresnameShow())\n",
        "print(car1.tyre2.tyresnameShow())\n",
        "print(car1.tyre3.tyresnameShow())\n",
        "print(car1.tyre4.tyresnameShow())\n",
        "print(car1.sterring.steeringname())\n",
        " \n",
        "\n",
        "\n",
        "\n",
        " "
      ],
      "metadata": {
        "colab": {
          "base_uri": "https://localhost:8080/"
        },
        "id": "Kg2eiOB0midv",
        "outputId": "391e8c93-e5b8-49d2-b817-4b59a5ba2e3d"
      },
      "execution_count": 134,
      "outputs": [
        {
          "output_type": "stream",
          "name": "stdout",
          "text": [
            "Maruti\n",
            "('Mhoc', 'marutiengne')\n",
            "('MRF', 18)\n",
            "('Apolo', 19)\n",
            "('MRF1', 20)\n",
            "('MRF2', 15)\n",
            "('Iron', 'Automatic')\n"
          ]
        }
      ]
    },
    {
      "cell_type": "code",
      "source": [
        "#sets\n",
        "s1 = {45,67,23,90}\n",
        "type(s1)"
      ],
      "metadata": {
        "colab": {
          "base_uri": "https://localhost:8080/"
        },
        "id": "A383k8gA60Iy",
        "outputId": "4ae6fd50-228b-4ee6-94ce-dc007b103113"
      },
      "execution_count": 135,
      "outputs": [
        {
          "output_type": "execute_result",
          "data": {
            "text/plain": [
              "set"
            ]
          },
          "metadata": {},
          "execution_count": 135
        }
      ]
    },
    {
      "cell_type": "code",
      "source": [
        "dir(s1)"
      ],
      "metadata": {
        "colab": {
          "base_uri": "https://localhost:8080/"
        },
        "id": "sUGaUwxt7ENk",
        "outputId": "1b27b232-0cf8-435f-e534-13cdc92c1d11"
      },
      "execution_count": 136,
      "outputs": [
        {
          "output_type": "execute_result",
          "data": {
            "text/plain": [
              "['__and__',\n",
              " '__class__',\n",
              " '__contains__',\n",
              " '__delattr__',\n",
              " '__dir__',\n",
              " '__doc__',\n",
              " '__eq__',\n",
              " '__format__',\n",
              " '__ge__',\n",
              " '__getattribute__',\n",
              " '__gt__',\n",
              " '__hash__',\n",
              " '__iand__',\n",
              " '__init__',\n",
              " '__init_subclass__',\n",
              " '__ior__',\n",
              " '__isub__',\n",
              " '__iter__',\n",
              " '__ixor__',\n",
              " '__le__',\n",
              " '__len__',\n",
              " '__lt__',\n",
              " '__ne__',\n",
              " '__new__',\n",
              " '__or__',\n",
              " '__rand__',\n",
              " '__reduce__',\n",
              " '__reduce_ex__',\n",
              " '__repr__',\n",
              " '__ror__',\n",
              " '__rsub__',\n",
              " '__rxor__',\n",
              " '__setattr__',\n",
              " '__sizeof__',\n",
              " '__str__',\n",
              " '__sub__',\n",
              " '__subclasshook__',\n",
              " '__xor__',\n",
              " 'add',\n",
              " 'clear',\n",
              " 'copy',\n",
              " 'difference',\n",
              " 'difference_update',\n",
              " 'discard',\n",
              " 'intersection',\n",
              " 'intersection_update',\n",
              " 'isdisjoint',\n",
              " 'issubset',\n",
              " 'issuperset',\n",
              " 'pop',\n",
              " 'remove',\n",
              " 'symmetric_difference',\n",
              " 'symmetric_difference_update',\n",
              " 'union',\n",
              " 'update']"
            ]
          },
          "metadata": {},
          "execution_count": 136
        }
      ]
    },
    {
      "cell_type": "code",
      "source": [
        "s1 = set() # //declare a empty set\n",
        "\n"
      ],
      "metadata": {
        "id": "v6La9J_x7Nm5"
      },
      "execution_count": null,
      "outputs": []
    },
    {
      "cell_type": "code",
      "source": [
        "s1.add(65)\n",
        "s1.add(54)\n",
        "s1"
      ],
      "metadata": {
        "colab": {
          "base_uri": "https://localhost:8080/"
        },
        "id": "50P2TQrd7N0G",
        "outputId": "a3bcc2d2-f580-4a6b-ae10-aba47ef98e70"
      },
      "execution_count": 138,
      "outputs": [
        {
          "output_type": "execute_result",
          "data": {
            "text/plain": [
              "{23, 45, 54, 65, 67, 90}"
            ]
          },
          "metadata": {},
          "execution_count": 138
        }
      ]
    },
    {
      "cell_type": "code",
      "source": [
        "l1 = [54,34,5,56,234,345,234,345]\n",
        "l1"
      ],
      "metadata": {
        "colab": {
          "base_uri": "https://localhost:8080/"
        },
        "id": "K1SS2v0E7OBJ",
        "outputId": "bec12938-b749-4a49-809a-763de240fb18"
      },
      "execution_count": 139,
      "outputs": [
        {
          "output_type": "execute_result",
          "data": {
            "text/plain": [
              "[54, 34, 5, 56, 234, 345, 234, 345]"
            ]
          },
          "metadata": {},
          "execution_count": 139
        }
      ]
    },
    {
      "cell_type": "code",
      "source": [
        "#set should have only uniw values\n",
        "set(s1)"
      ],
      "metadata": {
        "colab": {
          "base_uri": "https://localhost:8080/"
        },
        "id": "tgvX9ffe7mwF",
        "outputId": "ebdf90f0-e56a-4004-87d8-f2e69311d8f7"
      },
      "execution_count": 140,
      "outputs": [
        {
          "output_type": "execute_result",
          "data": {
            "text/plain": [
              "{23, 45, 54, 65, 67, 90}"
            ]
          },
          "metadata": {},
          "execution_count": 140
        }
      ]
    },
    {
      "cell_type": "code",
      "source": [
        "s1[2:4]"
      ],
      "metadata": {
        "colab": {
          "base_uri": "https://localhost:8080/",
          "height": 165
        },
        "id": "QmKpJYup7m3r",
        "outputId": "79cefa02-f86c-4dcb-e469-9af3306197a1"
      },
      "execution_count": 141,
      "outputs": [
        {
          "output_type": "error",
          "ename": "TypeError",
          "evalue": "ignored",
          "traceback": [
            "\u001b[0;31m---------------------------------------------------------------------------\u001b[0m",
            "\u001b[0;31mTypeError\u001b[0m                                 Traceback (most recent call last)",
            "\u001b[0;32m<ipython-input-141-e598e175cfac>\u001b[0m in \u001b[0;36m<module>\u001b[0;34m()\u001b[0m\n\u001b[0;32m----> 1\u001b[0;31m \u001b[0ms1\u001b[0m\u001b[0;34m[\u001b[0m\u001b[0;36m2\u001b[0m\u001b[0;34m:\u001b[0m\u001b[0;36m4\u001b[0m\u001b[0;34m]\u001b[0m\u001b[0;34m\u001b[0m\u001b[0;34m\u001b[0m\u001b[0m\n\u001b[0m",
            "\u001b[0;31mTypeError\u001b[0m: 'set' object is not subscriptable"
          ]
        }
      ]
    },
    {
      "cell_type": "code",
      "source": [
        "\n",
        "l1[2]"
      ],
      "metadata": {
        "colab": {
          "base_uri": "https://localhost:8080/"
        },
        "id": "rR9_7d787m6j",
        "outputId": "f9e86cab-9a2d-4f56-a009-8793e00cf1e4"
      },
      "execution_count": 142,
      "outputs": [
        {
          "output_type": "execute_result",
          "data": {
            "text/plain": [
              "5"
            ]
          },
          "metadata": {},
          "execution_count": 142
        }
      ]
    },
    {
      "cell_type": "code",
      "source": [
        "b = True\n",
        "b = False\n",
        "b = None\n",
        "print(b)"
      ],
      "metadata": {
        "colab": {
          "base_uri": "https://localhost:8080/"
        },
        "id": "QShNcn3R7-7y",
        "outputId": "97dbe5c1-a082-42e3-d40b-7b8b4c42f409"
      },
      "execution_count": 144,
      "outputs": [
        {
          "output_type": "stream",
          "name": "stdout",
          "text": [
            "None\n"
          ]
        }
      ]
    },
    {
      "cell_type": "code",
      "source": [
        "fruit1 = {\"Apple\",\"orange\",\"grape\"}\n",
        "fruit2 = {\"grape\",\"pine\",\"lemon\"}"
      ],
      "metadata": {
        "id": "Anese_wM8kre"
      },
      "execution_count": 145,
      "outputs": []
    },
    {
      "cell_type": "code",
      "source": [
        "#union of 2 sets\n",
        "fritunion = fruit1.union(fruit2)\n",
        "fritunion"
      ],
      "metadata": {
        "colab": {
          "base_uri": "https://localhost:8080/"
        },
        "id": "Y9MGQQaj8k3j",
        "outputId": "66ee71b6-3637-408e-dcfe-7316d733a007"
      },
      "execution_count": 147,
      "outputs": [
        {
          "output_type": "execute_result",
          "data": {
            "text/plain": [
              "{'Apple', 'grape', 'lemon', 'orange', 'pine'}"
            ]
          },
          "metadata": {},
          "execution_count": 147
        }
      ]
    },
    {
      "cell_type": "code",
      "source": [
        "fruit1 & fruit2"
      ],
      "metadata": {
        "colab": {
          "base_uri": "https://localhost:8080/"
        },
        "id": "jFDFRll38lFK",
        "outputId": "aa6032a8-d54d-47da-b94d-4ba40433c690"
      },
      "execution_count": 148,
      "outputs": [
        {
          "output_type": "execute_result",
          "data": {
            "text/plain": [
              "{'grape'}"
            ]
          },
          "metadata": {},
          "execution_count": 148
        }
      ]
    },
    {
      "cell_type": "code",
      "source": [
        "fruit1 | fruit2"
      ],
      "metadata": {
        "colab": {
          "base_uri": "https://localhost:8080/"
        },
        "id": "Gk4HJNik7_CX",
        "outputId": "41fd1d0a-472c-492d-b425-55710db92019"
      },
      "execution_count": 149,
      "outputs": [
        {
          "output_type": "execute_result",
          "data": {
            "text/plain": [
              "{'Apple', 'grape', 'lemon', 'orange', 'pine'}"
            ]
          },
          "metadata": {},
          "execution_count": 149
        }
      ]
    },
    {
      "cell_type": "code",
      "source": [
        "fruit1.difference(fruit2)"
      ],
      "metadata": {
        "colab": {
          "base_uri": "https://localhost:8080/"
        },
        "id": "DYH73e3w7_GK",
        "outputId": "52aeb3db-4c41-4c19-b007-d88e9f264d4f"
      },
      "execution_count": 150,
      "outputs": [
        {
          "output_type": "execute_result",
          "data": {
            "text/plain": [
              "{'Apple', 'orange'}"
            ]
          },
          "metadata": {},
          "execution_count": 150
        }
      ]
    },
    {
      "cell_type": "code",
      "source": [
        "fruit1.intersection(fruit2) "
      ],
      "metadata": {
        "colab": {
          "base_uri": "https://localhost:8080/"
        },
        "id": "MZisDlel97Cc",
        "outputId": "e660d22b-ba86-439f-ff80-68a5e3589cc6"
      },
      "execution_count": 151,
      "outputs": [
        {
          "output_type": "execute_result",
          "data": {
            "text/plain": [
              "{'grape'}"
            ]
          },
          "metadata": {},
          "execution_count": 151
        }
      ]
    },
    {
      "cell_type": "markdown",
      "source": [
        "#creating modules in python"
      ],
      "metadata": {
        "id": "PK0fWt00-QOH"
      }
    },
    {
      "cell_type": "code",
      "source": [
        ""
      ],
      "metadata": {
        "id": "2zQnq4Te97N_"
      },
      "execution_count": null,
      "outputs": []
    },
    {
      "cell_type": "code",
      "source": [
        ""
      ],
      "metadata": {
        "id": "w9shP84g7m9t"
      },
      "execution_count": null,
      "outputs": []
    }
  ]
}